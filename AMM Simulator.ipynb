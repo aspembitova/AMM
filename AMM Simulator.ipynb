{
 "cells": [
  {
   "cell_type": "code",
   "execution_count": 2,
   "id": "094cec83",
   "metadata": {},
   "outputs": [],
   "source": [
    "import math\n",
    "import warnings\n",
    "warnings.filterwarnings('ignore')\n",
    "import scipy as sp\n",
    "import scipy.stats\n",
    "import numpy as np\n",
    "import scipy.linalg as spla\n",
    "import os\n",
    "import numbers\n",
    "import seaborn as sns; sns.set()\n",
    "import pandas as pd\n",
    "import matplotlib.pyplot as plt\n",
    "import pandas as pd\n",
    "import matplotlib.pyplot as plt\n",
    "from scipy import stats\n",
    "from scipy.special import rel_entr, kl_div\n",
    "from scipy.stats import entropy\n",
    "from scipy.linalg import sqrtm\n",
    "from arch import arch_model\n",
    "%matplotlib inline\n",
    "from pathlib import Path\n",
    "from os import listdir\n",
    "from os.path import isfile, join\n",
    "from datetime import datetime\n",
    "\n",
    "from matplotlib.ticker import (MultipleLocator, FormatStrFormatter,\n",
    "                               AutoMinorLocator)\n",
    "import matplotlib.dates as mdates\n",
    "#plt.style.use(\"bmh\") #\"seaborn-deep\" \"seaborn-paper\"\n",
    "from functools import reduce\n",
    "#import statsmodels.formula.api as smf\n",
    "#import statsmodels.tsa.api as smt\n",
    "#import statsmodels.api as sm\n",
    "#from statsmodels.tsa.api import ExponentialSmoothing, SimpleExpSmoothing, Holt"
   ]
  },
  {
   "cell_type": "code",
   "execution_count": 86,
   "id": "c38e8ceb",
   "metadata": {},
   "outputs": [],
   "source": [
    "from matplotlib import cm\n",
    "from matplotlib.ticker import LinearLocator, FormatStrFormatter\n",
    "from mpl_toolkits.mplot3d import Axes3D"
   ]
  },
  {
   "cell_type": "markdown",
   "id": "f85578bc",
   "metadata": {},
   "source": [
    "# Input Data"
   ]
  },
  {
   "cell_type": "code",
   "execution_count": null,
   "id": "763605ac",
   "metadata": {},
   "outputs": [],
   "source": [
    "df1 = pd.read_csv('/Users/ayanaaspembitova/work/Euler/SwapData/price/ETH-USDT15min.csv', usecols = ['date', 'price'])\n",
    "df1.columns = ['date', 'eth']\n",
    "df2 = pd.read_csv('/Users/ayanaaspembitova/work/Euler/SwapData/price/AAVE-ETH15min.csv',  usecols = ['date', 'price'])\n",
    "df2.columns = ['date', 'aave']\n",
    "df = df1.merge(df2, on=['date'])"
   ]
  },
  {
   "cell_type": "code",
   "execution_count": null,
   "id": "6872de11",
   "metadata": {},
   "outputs": [],
   "source": [
    "df = df.set_index('date')\n",
    "df = df.fillna(method='bfill')\n",
    "df = df.dropna()\n",
    "returns = 100*df.pct_change().dropna()\n",
    "log_returns = 100*(np.log(df) - np.log(df.shift(1))).dropna()"
   ]
  },
  {
   "cell_type": "code",
   "execution_count": null,
   "id": "7fa8b5cd",
   "metadata": {},
   "outputs": [],
   "source": [
    "df_trade = pd.read_csv('/Users/ayanaaspembitova/work/Euler/SwapData/AAVE-ETH15min.csv', usecols = ['timestamp', 'amount0', 'amount1', 'amount0_usd'])\n",
    "df_trade = df_trade.fillna(0)\n"
   ]
  },
  {
   "cell_type": "markdown",
   "id": "bbc40057",
   "metadata": {},
   "source": [
    "# Price simulator"
   ]
  },
  {
   "cell_type": "code",
   "execution_count": null,
   "id": "bb8ffa88",
   "metadata": {},
   "outputs": [],
   "source": [
    "def multivaraiate_normal_sampler(mean, covariance, n_samples=1):\n",
    "    \n",
    "    L = spla.cholesky(covariance)\n",
    "    Z = np.random.normal(size=(n_samples, covariance.shape[0]))\n",
    "    \n",
    "    return Z.dot(L) + mean"
   ]
  },
  {
   "cell_type": "code",
   "execution_count": null,
   "id": "72d7447b",
   "metadata": {},
   "outputs": [],
   "source": [
    "def multivariate_student_t_sampler(mean, cov, dof, n_samples=1):\n",
    "    #multivariate student-t distribution has covariance matrix equals to (dof/(dof-2) * Sigma) and the same mean\n",
    "    m = mean.shape[0]\n",
    "    u = np.random.gamma(dof / 2., 2. / dof, size = (n_samples,1))\n",
    "    Y = multivaraiate_normal_sampler(np.zeros((m, )), cov, n_samples)\n",
    "    \n",
    "    return Y / np.tile(np.sqrt(u), [1,m]) + mean"
   ]
  },
  {
   "cell_type": "markdown",
   "id": "0452a7a6",
   "metadata": {},
   "source": [
    "## Brownian motion "
   ]
  },
  {
   "cell_type": "code",
   "execution_count": null,
   "id": "9897ae42",
   "metadata": {},
   "outputs": [],
   "source": [
    "def simulate_Brownian_mult(So, mu, sigma, mQ, returns, n):\n",
    "    #maxs = returns.max().values*1.3 # restriction on max/min values of returns\n",
    "    #mins = returns.min().values*1.3\n",
    "    white_noise = multivaraiate_normal_sampler(mu, mQ, n)\n",
    "    d = returns.shape[1]\n",
    "    ret = np.zeros((n, d))\n",
    "    S = np.zeros([n, d])\n",
    "    \n",
    "\n",
    "    for t in range(1, n):\n",
    "        ret[t] = mu + np.sqrt(sigma2)*white_noise[t][0]\n",
    "        #ret[t] = ret[t].clip(max=maxs, min=mins)\n",
    "    \n",
    "        S[t, :] = S[t-1, :] * (1 + ret[t,:] / 100)\n",
    "        St = S[t, :]\n",
    "        St[np.where(St <0)] = 0 #to avoid negative prices\n",
    "        S[t, :] = St\n",
    "    return ret, S"
   ]
  },
  {
   "cell_type": "markdown",
   "id": "6a9cbb34",
   "metadata": {},
   "source": [
    "## GARCH (univariate and multivariate) "
   ]
  },
  {
   "cell_type": "code",
   "execution_count": null,
   "id": "c6b52e21",
   "metadata": {},
   "outputs": [],
   "source": [
    "def fit_GARCH(ret, dist):\n",
    "\n",
    "    scaling_const = 1.0 #/ ret.std()\n",
    "\n",
    "    am = arch_model(ret * scaling_const,\n",
    "                    mean='ARX', lags=1, # mean = Constant, ARX, HARX + the number of lags\n",
    "                    vol='Garch', p=1, o=0, q=1, # vol = Garch, EGARCH, HARCH + the number of lags\n",
    "                    dist=dist) # dist = Normal, t, skewstudent, ged\n",
    "\n",
    "    res = am.fit(update_freq=0, disp='off')\n",
    "    alpha = pd.DataFrame(res.params).filter(regex='alpha', axis=0).values[0][0]\n",
    "    beta = pd.DataFrame(res.params).filter(regex='beta', axis=0).values[0][0]\n",
    "\n",
    "    # try parts of t-s to get stationary model\n",
    "    cut_p = np.arange(0.05,0.6,0.05)\n",
    "    i = 0\n",
    "    while ((alpha + beta) > 0.9999) & (i < len(cut_p)):\n",
    "        y = np.int(len(ret) * cut_p[i])\n",
    "        ret_cut = ret[y:]\n",
    "        am = arch_model(ret_cut * scaling_const,\n",
    "                    mean='ARX', lags=1, # mean = Constant, ARX, HARX + the number of lags\n",
    "                    vol='Garch', p=1, o=0, q=1, # vol = Garch, EGARCH, HARCH + the number of lags\n",
    "                    dist=dist) # dist = Normal, t, skewstudent, ged\n",
    "        i = i + 1\n",
    "        res = am.fit(update_freq=0, disp='off')\n",
    "        alpha = pd.DataFrame(res.params).filter(regex='alpha', axis=0).values[0][0]\n",
    "        beta = pd.DataFrame(res.params).filter(regex='beta', axis=0).values[0][0]\n",
    "    \n",
    "    return am, res, scaling_const"
   ]
  },
  {
   "cell_type": "code",
   "execution_count": null,
   "id": "9c22b1d6",
   "metadata": {},
   "outputs": [],
   "source": [
    "def fit_mult_GARCH(returns, dist):\n",
    "    \n",
    "    eps = pd.DataFrame(columns=returns.columns)\n",
    "    distribution_params = {}\n",
    "    df_params = pd.DataFrame(columns=returns.columns)\n",
    "\n",
    "    # Fit marginal distributions for each asset\n",
    "    ret_dim = returns.shape[0]\n",
    "    for col in returns.columns:\n",
    "        print(col)\n",
    "        am, res, scaling_const = fit_GARCH(returns[col], dist)\n",
    "        cond_vol = res.conditional_volatility.to_numpy().reshape(len(res.resid),1)\n",
    "        a = np.empty(len(returns[col]) - len(res.resid))\n",
    "        a[:] = np.nan\n",
    "\n",
    "        eps[col] = returns[col].values / np.concatenate([a, cond_vol.T[0]])\n",
    "        \n",
    "        alpha = pd.DataFrame(res.params).filter(regex='alpha', axis=0).values[0][0]\n",
    "        beta = pd.DataFrame(res.params).filter(regex='beta', axis=0).values[0][0]\n",
    "        nu = pd.DataFrame(res.params).filter(regex='nu', axis=0).values[0][0]\n",
    "        omega = pd.DataFrame(res.params).filter(regex='omega', axis=0).values[0][0]\n",
    "        a0 = res.params[0]\n",
    "        a1 = res.params[1]\n",
    "        df_params[col] = [alpha, beta, omega, a0, a1, scaling_const] \n",
    "        \n",
    "        print(alpha + beta, nu)\n",
    "        distribution_params[col] = (am, res, scaling_const)\n",
    "        \n",
    "    return distribution_params, df_params, eps"
   ]
  },
  {
   "cell_type": "code",
   "execution_count": null,
   "id": "5483d5da",
   "metadata": {},
   "outputs": [],
   "source": [
    "def simulate_Student_t_GARCH_mult(So, dof, n, mQ, returns, df_params):\n",
    "\n",
    "    d = returns.shape[1]\n",
    "    \n",
    "    maxs = returns.max().values*1.3 # restriction on max/min values of returns\n",
    "    mins = returns.min().values*1.3 # restriction on max/min values of returns\n",
    "\n",
    "    ret = np.zeros((n, d))\n",
    "    stdres = np.zeros((n, d))\n",
    "    sigma2 = np.zeros((n, d))\n",
    "    \n",
    "    [alpha, beta, omega, a0, a1, scaling_const] = df_params.values\n",
    "    \n",
    "    mu = np.zeros((1, d)) # initial mu\n",
    "    sigma2[0] = omega / (1 - alpha - beta) # initial sigma\n",
    "    \n",
    "    white_noise = np.sqrt((dof - 2) / dof) * multivariate_student_t_sampler(np.zeros((d, )), mQ, dof, n) \n",
    "\n",
    "    ret[0] = returns[-1:].values\n",
    "    S = np.zeros([n, d])\n",
    "    S[0, :] = So\n",
    "    #loop over sims\n",
    "    for t in range(1, n):\n",
    "        \n",
    "        mu = a0 + a1 * ret[t-1]\n",
    "        sigma2[t] = omega + alpha * (ret[t-1] - mu)**2 + beta * sigma2[t-1]\n",
    "        ret[t] = mu + np.sqrt(sigma2[t]) * white_noise[t]\n",
    "        ret[t] = ret[t].clip(max=maxs, min=mins)\n",
    "        stdres[t] = ret[t] / np.sqrt(sigma2[t])\n",
    "            \n",
    "        S[t, :] = S[t-1, :] * (1 + ret[t,:] / 100)\n",
    "        St = S[t, :]\n",
    "        St[np.where(St <0)] = 0 #to avoid negative prices\n",
    "        S[t, :] = St\n",
    "    \n",
    "    return ret, S               "
   ]
  },
  {
   "cell_type": "code",
   "execution_count": null,
   "id": "ae3752df",
   "metadata": {},
   "outputs": [],
   "source": [
    "distribution_params, df_params, eps = fit_mult_GARCH(returns, 't')\n",
    "\n",
    "mQ = eps.dropna().cov() # unconditional covariance matrix of standartized residuals\n",
    "n = 5000\n",
    "dof = 4\n",
    "\n",
    "start=datetime.now()\n",
    "So = df.iloc[-1,:]\n",
    "ret, S = simulate_Student_t_GARCH_mult(So, dof, n, mQ, returns, df_params)"
   ]
  },
  {
   "cell_type": "code",
   "execution_count": null,
   "id": "899e1274",
   "metadata": {},
   "outputs": [],
   "source": [
    "ret_sim = pd.DataFrame(ret)\n",
    "ret_sim.columns = returns.columns\n",
    "\n",
    "N = ret_sim.shape[0]\n",
    "S = np.zeros([2, int(N)])\n",
    "S[:, 0] = df.iloc[-1,:]\n",
    "\n",
    "for i in range(1, int(N)): \n",
    "    \n",
    "    S[:, i] = S[:, i-1] * (1 + ret_sim.iloc[i,:].values / 100)\n",
    "    \n",
    "sim_prices_df = pd.DataFrame(S.T, columns = returns.columns)"
   ]
  },
  {
   "cell_type": "markdown",
   "id": "cd167b23",
   "metadata": {},
   "source": [
    "# Trade Simulator"
   ]
  },
  {
   "cell_type": "code",
   "execution_count": null,
   "id": "c99cb297",
   "metadata": {},
   "outputs": [],
   "source": [
    "#Random sampling from a given distribution: \n",
    "\n",
    "def simulate_log_random_trades(mean_pos, mean_neg, s_pos, s_neg, size_pos, size_neg, low_pos, low_neg, high_pos, high_neg): \n",
    "    neg_dist = scipy.stats.lognorm(mean_neg, s_neg)\n",
    "    pos_dist = scipy.stats.lognorm(mean_pos, s_pos)\n",
    "    points = np.array([])\n",
    "    points_pos = np.array([])\n",
    "    points_neg = np.array([])\n",
    "    N = size_neg+size_pos\n",
    "\n",
    "    while points_pos.size < size_pos:\n",
    "        x = pos_dist.rvs(size_pos)\n",
    "        ix = x < high_pos\n",
    "        ix = ix & (low_pos < x)\n",
    "        points_pos = np.hstack([points_pos, x[ix]])\n",
    "    while points_neg.size < size_neg:\n",
    "        x = neg_dist.rvs(size_neg)\n",
    "        ix = x < high_neg\n",
    "        ix = ix & (low_neg < x)\n",
    "        points_neg = np.hstack([points_neg, x[ix]])\n",
    "        points_neg = [ -x for x in points_neg]\n",
    "        #points = np.concatenate([points_pos, points_neg])\n",
    "        points = np.random.choice(np.concatenate([points_pos, points_neg]), N)\n",
    "        return points\n",
    "    "
   ]
  },
  {
   "cell_type": "code",
   "execution_count": null,
   "id": "a56e10ce",
   "metadata": {},
   "outputs": [],
   "source": [
    "#According to Uni V2 formula, get size of the trade to match external price\n",
    "\n",
    "def trades_from_price(price_x, price_y, x, y):\n",
    "    p_x = price_x/price_y\n",
    "    dx = math.sqrt(p_x*y*x)-x\n",
    "    dy = -(y*(dx/(x+dx)))\n",
    "    x1 = x+dx\n",
    "    y1 = y+dy\n",
    "    return dx, dy, x1, y1"
   ]
  },
  {
   "cell_type": "markdown",
   "id": "8cc3b8fb",
   "metadata": {},
   "source": [
    "# Arbitrage Module"
   ]
  },
  {
   "cell_type": "code",
   "execution_count": null,
   "id": "020529b8",
   "metadata": {},
   "outputs": [],
   "source": [
    "#CPAMM formula, get size of the trade to match external price\n",
    "\n",
    "def trades_from_price_cp(pj, x, y):\n",
    "    dx = math.sqrt(pj*y*x)-x\n",
    "    dy = y*(dx/(x+dx))\n",
    "    return dx, dy"
   ]
  },
  {
   "cell_type": "code",
   "execution_count": null,
   "id": "176cbd25",
   "metadata": {},
   "outputs": [],
   "source": [
    "#Curve V1\n",
    "def calculate_derivative (x, A, D, s):\n",
    "    #d = -(0.5/np.sqrt((D**3/(A*x) + ((1-1/A)*D - x)**2))) * (-D**3/(A*x**2) - 2*((1-1/A)*D - x)) - s\n",
    "    d=-0.5*(-1+0.5/np.sqrt((D**3/(A*x)+((1-1/A)*D-x)**2)) * (-D**3/(A*x**2)-2*((1-1/A)*D-x))) - s\n",
    "    return d\n",
    "\n",
    "def get_trades_from_price_c1(x_initial_guess, A, D, x, y, pj)\n",
    "    liquidity = x + y\n",
    "    x1 = fsolve(calculate_derivative, x_initial_guess, args = (A, liquidity, pj) )\n",
    "    dx = x-x1[0]\n",
    "    \n",
    "    b = (1 - 1 / A) * D - x1[0]\n",
    "    dsc = 4*D * (D/2)**2 / (A*x1[0]) + b**2\n",
    "    y1 = (np.sqrt(dsc) + b) / 2\n",
    "    dy = y-y1\n",
    "    return dx, dy"
   ]
  },
  {
   "cell_type": "code",
   "execution_count": null,
   "id": "800aa62d",
   "metadata": {},
   "outputs": [],
   "source": [
    "#EulerSwap(new):\n",
    "\n"
   ]
  },
  {
   "cell_type": "markdown",
   "id": "690970b8",
   "metadata": {},
   "source": [
    "# Uniswap V2 implementation"
   ]
  },
  {
   "cell_type": "code",
   "execution_count": null,
   "id": "3b5ad558",
   "metadata": {},
   "outputs": [],
   "source": [
    "def univ2(dx, price_x, price_y, liquidity):\n",
    "    x = (liquidity/2)/price_x\n",
    "    y = (liquidity/2)/price_y\n",
    "    dy = y*(dx/(x+dx)) \n",
    "    \n",
    "    x1 = x + dx\n",
    "    y1 = y + dy\n",
    "    price = dx/dy\n",
    "    slippage = abs((x/y - x1/y1) / (x/y))\n",
    "    balance = 1 - abs(price_x*x1/(price_x*x1+price_y*y1) - 1/2) - abs(price_y*y1/(price_x*x1+price_y*y1) - 1/2)\n",
    "    return dy, price, slippage, balance"
   ]
  },
  {
   "cell_type": "markdown",
   "id": "ed2bb780",
   "metadata": {},
   "source": [
    "# Curve implementation"
   ]
  },
  {
   "cell_type": "code",
   "execution_count": null,
   "id": "452f37dd",
   "metadata": {},
   "outputs": [],
   "source": [
    "def curve(dx, D, A):\n",
    "    x = (liquidity/2)\n",
    "    y = (liquidity/2)\n",
    "    \n",
    "    x1 = x + dx\n",
    "\n",
    "    b = (1 - 1 / A) * D - x1\n",
    "    dsc = D**3 / (A*x1) + b**2\n",
    "    y1 = (np.sqrt(dsc) + b) / 2\n",
    "    dy = y - y1\n",
    "\n",
    "    balance = 1 - abs(x1/(x1+y1) - 1/2) - abs(y1/(x1+y1) - 1/2)\n",
    "    spot = x*(A*x*y + D**3/4)/(y*(A*x**2 + D**3/4))\n",
    "    spot1 = x1*(A*x1*y1 + D**3/4)/(y1*(A*x1**2 + D**3/4))\n",
    "    slippage = abs(spot1/spot - 1) #abs(abs(dx/dy) / spot - 1)\n",
    "    #x1_solution = fsolve(cost_of_slippage, x, args = (x, y, s, A, D))\n",
    "    #cost_of_slip = abs(x1_solution[0] - x)\n",
    "\n",
    "    return dy, slippage, balance"
   ]
  },
  {
   "cell_type": "markdown",
   "id": "5d743518",
   "metadata": {},
   "source": [
    "# EulerSwap implementation (no fees)"
   ]
  },
  {
   "cell_type": "code",
   "execution_count": null,
   "id": "ea7863b1",
   "metadata": {},
   "outputs": [],
   "source": [
    "#CSAMM, CPAMM, ES\n",
    "def CSAMM(x):\n",
    "    return 2-x\n",
    "\n",
    "def CPAMM(x):\n",
    "    return 1/x\n",
    "\n",
    "def ES(x, c): #Solving for y\n",
    "    return (-c / (2 - c)) * x + (2 / (2 - c)) * math.pow(x, -(1 - c)) #x ** (-(1-c))# math.pow(x, -(1 - c))\n",
    "\n",
    "def dfdx(x, y, c): #y'\n",
    "    return -c - ((1 - c) * y) / x\n",
    "\n",
    "def dfdx2(x, c):\n",
    "    return (-2 * math.pow(x, 2) + c * math.pow(x, 2)) / ((1 - c) * 2 * math.pow(x, c) + c * math.pow(x, 2))\n",
    "\n",
    "def finv(x, c): #Newton's method \n",
    "    n = 0\n",
    "    xn = (2 * x ** (c - 1)) / 2 - c  #c * CSAMM(x) + (1 - c) * CPAMM(x)\n",
    "    while n < 15:\n",
    "        xn = xn - (ES(xn, c) - x) / dfdx(xn, x, c)\n",
    "        n += 1\n",
    "    return xn"
   ]
  },
  {
   "cell_type": "code",
   "execution_count": null,
   "id": "324f3a96",
   "metadata": {},
   "outputs": [],
   "source": [
    "def ES_x_swap(amount, c, reserve_x, reserve_y, py, x, y):\n",
    "    virtual_x = reserve_y * py\n",
    "    virtual_y = reserve_x * (1/py) \n",
    "    \n",
    "    if x >= 1:\n",
    "        x_in = amount / virtual_x \n",
    "        y_out = y - finv(x + x_in, c) \n",
    "        y_out_real = y_out * reserve_y \n",
    "    else:\n",
    "        if x + amount / reserve_x < 1:\n",
    "\n",
    "            x_in = amount / reserve_x \n",
    "            y_out = y - ES(x + x_in, c) \n",
    "            y_out_real = y_out * virtual_y # + amount in + fees\n",
    "        else:\n",
    "            x_in_f_part = 1 - x\n",
    "            x_in_f_part_real = x_in_f_part * reserve_x\n",
    "            x_in_g_part_real = amount - x_in_f_part_real\n",
    "            x_in_g_part = x_in_g_part_real / virtual_x\n",
    "            x_in = x_in_f_part + x_in_g_part\n",
    "            y_out_f_part = y - 1\n",
    "            y_out_g_part = 1 - finv(1 + x_in_g_part, c)\n",
    "            y_out = y_out_f_part + y_out_g_part\n",
    "            y_out_f_part_real = y_out_f_part * virtual_y  # + amount in + fees\n",
    "            y_out_g_part_real = y_out_g_part * reserve_y\n",
    "            y_out = y_out_g_part_real + y_out_f_part_real\n",
    "            y_out_real = y_out_f_part_real + y_out_g_part_real\n",
    "            \n",
    "    x = x + x_in \n",
    "    y = y - y_out\n",
    "    reserve_x = reserve_x + amount\n",
    "    reserve_y = reserve_y - y_out_real\n",
    "    p_eff = amount/(y_out_real+0.0001)\n",
    "            \n",
    "    return amount, y_out_real, reserve_x, reserve_y, p_eff, x, y"
   ]
  },
  {
   "cell_type": "code",
   "execution_count": null,
   "id": "0b1a6e88",
   "metadata": {},
   "outputs": [],
   "source": [
    "def ES_y_swap(amount, c, reserve_x, reserve_y, py, x, y):\n",
    "    virtual_x = reserve_y * py\n",
    "    virtual_y = reserve_x * (1/py)\n",
    "    \n",
    "    if y >= 1:\n",
    "            # we're in g here\n",
    "        y_in = amount / (virtual_y+0.00001) # normalise the amount in\n",
    "        x_out = x - finv(y + y_in, c) # calculate the new x position\n",
    "        x_out_real = x_out * reserve_x # calculate the real x out\n",
    "    else:\n",
    "        if y + amount / reserve_y < 1:\n",
    "                # we're in g here\n",
    "            y_in = amount / reserve_y\n",
    "            x_out = x - ES(y + y_in, c) # calculate the new x position\n",
    "            x_out_real = x_out * virtual_x # calculate the real x out\n",
    "        else:\n",
    "                # we're in g and then f here\n",
    "            y_in_g_part = 1 - y\n",
    "            y_in_g_part_real = y_in_g_part * reserve_y\n",
    "            y_in_f_part_real = amount - y_in_g_part_real\n",
    "            y_in_f_part = y_in_f_part_real / virtual_y\n",
    "            y_in = y_in_g_part + y_in_f_part\n",
    "            x_out_g_part = x - 1\n",
    "            x_out_f_part = 1 - finv(1 + y_in_f_part, c)\n",
    "            x_out = x_out_g_part + x_out_f_part\n",
    "            x_out_g_part_real = x_out_g_part * virtual_x\n",
    "            x_out_f_part_real = x_out_f_part * reserve_x\n",
    "            x_out_real = x_out_g_part_real + x_out_f_part_real\n",
    "            \n",
    "    y = y + y_in \n",
    "    x = x - x_out \n",
    "    reserve_y = reserve_y + amount\n",
    "    reserve_x = reserve_x - x_out_real\n",
    "    p_eff = x_out_real/(amount+0.00001)\n",
    "            \n",
    "    return x_out_real, amount, reserve_x, reserve_y, p_eff, x, y #, slippage"
   ]
  },
  {
   "cell_type": "markdown",
   "id": "7682dcc6",
   "metadata": {},
   "source": [
    "# ES Implementation + fee attribution"
   ]
  },
  {
   "cell_type": "code",
   "execution_count": null,
   "id": "83482e7b",
   "metadata": {},
   "outputs": [],
   "source": [
    "#Functions to calculate output amounts (Old stuff):\n",
    "'''\n",
    "def getYEulerSwapExcess(amount, x_price, y_price):\n",
    "    y_in = (x_price / y_price) * (amount)\n",
    "    return y_in\n",
    "\n",
    "def getXEulerSwapExcess(amount, x_price, y_price):\n",
    "    y_in = (x_price / y_price) * (amount)\n",
    "    return y_in\n",
    "\n",
    "def getYEulerSwap(x_coord, x, c_x): \n",
    "    y_new = (2 * math.pow(x_coord/x, c_x - 1) - (c_x * x_coord) / x) /(2 - c_x)\n",
    "    return y_new\n",
    "\n",
    "def getXEulerSwap(x_out, y_virtual, x_price, y_price, x_reserve, y_reserve, y_coord, x_coord): \n",
    "    n = 0 \n",
    "    n_max = 100 \n",
    "    csamm = (x_price / y_price) * x_out\n",
    "    cpamm = y_virtual*(x_out/(x_reserve+x_out))\n",
    "    start_x = csamm\n",
    "    end_x = cpamm\n",
    "    y_estimate_n = (start_x + end_x) / 2\n",
    "    y_coord_estimate_n = y_coord - y_estimate_n\n",
    "    y_coord_estimate_norm = y_coord_estimate_n/y_reserve\n",
    "    x_coord_estimate_n = getYEulerSwap(y_coord, y_reserve, x_virtual, 1) * x_virtual\n",
    "    \n",
    "    while n < n_max:\n",
    "        if x_coord_estimate_n > x_coord:\n",
    "            start_x = y_estimate_n\n",
    "        else:\n",
    "            end_x = y_estimate_n\n",
    "        y_estimate_n = (start_x + end_x) / 2\n",
    "        y_coord_estimate_n = y_coord - y_estimate_n\n",
    "        y_coord_estimate_norm = y_coord_estimate_n/y_reserve\n",
    "        x_coord_estimate_n = y_coord - getYEulerSwap(x_coord, x_reserve, y_virtual, 1)\n",
    "        n += 1\n",
    "        x_out_estimate = x_coord - x_coord_estimate_n\n",
    "        y_in_estimate = y_coord - y_coord_estimate_n\n",
    "    return y_in_estimate '''"
   ]
  },
  {
   "cell_type": "code",
   "execution_count": 155,
   "id": "29238207",
   "metadata": {},
   "outputs": [],
   "source": [
    "#Functions to calculate output amounts :\n",
    "\n",
    "def getYEulerSwapExcess(amount, x_price, y_price):\n",
    "    y_in = (x_price / y_price) * (amount)\n",
    "    return y_in\n",
    "\n",
    "def getXEulerSwapExcess(amount, x_price, y_price):\n",
    "    y_in = (x_price / y_price) * (amount)\n",
    "    return y_in\n",
    "\n",
    "def getYEulerSwap(c, x0, x, dx, px, py):\n",
    "    y_new = px/py*(c*(2*x0 - (x+dx)) + (1-c)* ((x **2)/x+dx))\n",
    "    return y_new\n",
    "\n",
    "def getXEulerSwap(c, y0, x, dx, px, py):\n",
    "    y_new = - ((x+dx) * px/py - 2*c*y0 - np.sqrt(((x+dx) * px/py - 2*c*y0)**2 + 4*c*(1-c)*y0**2))/2*c\n",
    "    return y_new"
   ]
  },
  {
   "cell_type": "code",
   "execution_count": 49,
   "id": "46f943c1",
   "metadata": {},
   "outputs": [],
   "source": [
    "#Swap functions with fee attribution logic:\n",
    "\n",
    "def swapXOutXSide(x_out_X_side, x_excess, y_excess, fee, c_x, x_reserve, y_reserve, x_price, y_price, x_coord, y_coord, x_centre): \n",
    "    y_in_X_side = 0\n",
    "    x_coord = x_coord - x_out_X_side\n",
    "    x_coord_norm = x_coord/x_reserve\n",
    "    y_coord_norm = y_coord/y_reserve\n",
    "    x_virtual = (y_reserve * y_price)/x_price\n",
    "    y_virtual = (x_reserve * x_price)/y_price\n",
    "    \n",
    "    if x_coord_norm >= x_centre: # X excess curve\n",
    "        y_in_X_side = getYEulerSwapExcess(x_out_X_side, x_price, y_price)\n",
    "        active_region = 2\n",
    "    else: # X main curve\n",
    "        #y_in_X_side = (getYEulerSwap(x_coord_norm, 1, c_x) - y_coord_norm) * y_virtual\n",
    "        y_in_X_side = y_coord - getYEulerSwap(c_x, x_reserve, x_out_X_side, x_price, y_price)\n",
    "        active_region = 1\n",
    "        x_reserve -= x_out_X_side\n",
    "        \n",
    "    y_in_X_side_fee = fee * y_in_X_side\n",
    "    y_excess += y_in_X_side_fee\n",
    "    x_excess += 0\n",
    "    #y_in += y_in_X_side_fee \n",
    "    \n",
    "    y_reserve +=y_in_X_side\n",
    "    y_coord += y_in_X_side_fee\n",
    "    \n",
    "    return x_out_X_side, y_in_X_side, y_in_X_side_fee, active_region, x_reserve, y_reserve, x_excess, y_excess, x_coord, y_coord"
   ]
  },
  {
   "cell_type": "code",
   "execution_count": null,
   "id": "ab7785fa",
   "metadata": {},
   "outputs": [],
   "source": []
  },
  {
   "cell_type": "code",
   "execution_count": 59,
   "id": "b4186cee",
   "metadata": {},
   "outputs": [],
   "source": [
    "def swapXOutYSide(x_out_Y_side, c, x_excess, y_excess, fee, x_reserve, y_reserve, x_price, y_price, x_coord, y_coord, x_centre):\n",
    "    x_coord_norm = x_coord/x_reserve\n",
    "    y_coord_norm = y_coord/y_reserve\n",
    "    x_virtual = (y_reserve * y_price)/x_price\n",
    "    y_virtual = (x_reserve * x_price)/y_price\n",
    "    \n",
    "    y_in_Y_side = 0\n",
    "    x_out_Y_side_max = x_coord - x_virtual \n",
    "        #the difference between x-coordinate of the external boundary of the Y excess curve and the current x-coordinate\n",
    "    if x_out_Y_side <= x_out_Y_side_max: #x-coordinate on the Y side\n",
    "        x_out_Y_side_fee = fee * x_out_Y_side\n",
    "        x_coord -= x_out_Y_side - x_out_Y_side_fee \n",
    "        if x_coord >= x_virtual + x_excess: #Y main curve\n",
    "            #y_in_Y_side = getXEulerSwap(x_out_Y_side, y_virtual, x_price, y_price, x_reserve, y_reserve, y_coord, x_coord) \n",
    "            y_in_Y_side = y_coord - getXEulerSwap(c, x_coord, x_out_Y_side, x_price, y_price)\n",
    "            x_coord -= x_out_Y_side\n",
    "            active_region = 1\n",
    "        else: #Y excess curve\n",
    "            y_in_Y_side = getXEulerSwapExcess(x_out_Y_side, x_price, y_price)\n",
    "            active_region = 2\n",
    "                \n",
    "        y_coord += y_in_Y_side\n",
    "        x_excess += x_out_Y_side_fee \n",
    "        y_excess += 0\n",
    "            \n",
    "        return x_out_Y_side, y_in_Y_side, x_out_Y_side_fee, active_region, x_reserve, y_reserve, x_excess, y_excess, x_coord, y_coord\n",
    "            \n",
    "    else: #x-coordinate somewhere on the X side\n",
    "        active_region = 0\n",
    "        x_out_X_side = x_out_Y_side - x_out_Y_side_max \n",
    "        x_out_Y_side = x_out_Y_side_max\n",
    "        x_out_Y_side_fee = fee * x_out_Y_side\n",
    "        x_coord -= x_out_Y_side - x_out_Y_side_fee\n",
    "        y_in_Y_side = getXEulerSwapExcess(x_out_Y_side, x_price, y_price)\n",
    "        #active_region = 2\n",
    "            \n",
    "        x_excess += x_out_Y_side_fee\n",
    "        y_excess += 0\n",
    "        #x_coord = x_reserve + (y_excess * y_price) / x_price \n",
    "        #y_coord = y_virtual\n",
    "       # y_in_X_side, y_in_X_side_fee\n",
    "        x_out, y_in_X_side, y_in_X_side_fee, active_region0, x_reserve0, y_reserve0, x_excess0, y_excess0, x_coord0, y_coord0 = swapXOutXSide(x_out_X_side, x_excess, y_excess, fee, c, x_reserve, y_reserve, x_price, y_price, x_coord, y_coord, x_centre)\n",
    "        #active_region = 1\n",
    "        x_reserve -= x_out_X_side\n",
    "        y_reserve += (y_in_Y_side+ y_in_X_side)\n",
    "        \n",
    "        x_excess += x_out_Y_side_fee\n",
    "        y_excess += y_in_X_side_fee\n",
    "        y_coord += (y_in_X_side+y_in_Y_side+y_excess) \n",
    "        x_coord = x_coord - (x_out_Y_side+ x_out_X_side) + x_excess #Is this right?\n",
    "\n",
    "        return x_out_X_side + x_out_Y_side, y_in_Y_side+ y_in_X_side, x_out_Y_side_fee + y_in_X_side_fee, active_region, x_excess, y_excess, x_coord, y_coord"
   ]
  },
  {
   "cell_type": "code",
   "execution_count": null,
   "id": "48b6b371",
   "metadata": {},
   "outputs": [],
   "source": []
  },
  {
   "cell_type": "code",
   "execution_count": null,
   "id": "93063cc0",
   "metadata": {},
   "outputs": [],
   "source": []
  },
  {
   "cell_type": "code",
   "execution_count": 88,
   "id": "f4856d10",
   "metadata": {},
   "outputs": [],
   "source": [
    "def swapXInYSide(x_in_Y_side, c, x_excess, y_excess, fee, x_reserve, y_reserve, x_price, y_price, x_coord, y_coord): \n",
    "    y_out_Y_side = 0\n",
    "    x_in_Y_side_fee = fee * x_in_Y_side\n",
    "    x_in_Y_side -= x_in_Y_side_fee\n",
    "    x_coord += x_in_Y_side\n",
    "    \n",
    "    x_coord_norm = x_coord/x_reserve\n",
    "    y_coord_norm = y_coord+y_excess/y_reserve\n",
    "    x_virtual = (y_reserve * y_price)/x_price\n",
    "    y_virtual = (x_reserve * x_price)/y_price\n",
    "    \n",
    "    if x_coord_norm <= 1: #x_virtual + x_excess: #x-coordinate on Y excess curve\n",
    "        y_out_Y_side = getXEulerSwapExcess(x_in_Y_side, x_price, y_price) - y_coord\n",
    "        active_region = 2\n",
    "    else: # x-coordinate on Y main curve\n",
    "        y_out_Y_side = getXEulerSwap(c, x_coord, x_in_Y_side, x_price, y_price) \n",
    "        active_region = 1\n",
    "        #y_reserve -=y_out_Y_side\n",
    "        \n",
    "    y_coord -= y_out_Y_side \n",
    "    x_excess += x_in_Y_side_fee \n",
    "    y_excess +=0\n",
    "    #x_coord +=x_in_Y_side_fee\n",
    "\n",
    "    #x_reserve+=x_in\n",
    "    \n",
    "    return x_in_Y_side, y_out_Y_side, x_in_Y_side_fee, active_region, x_excess, y_excess, x_coord, y_coord"
   ]
  },
  {
   "cell_type": "code",
   "execution_count": 90,
   "id": "b55feee9",
   "metadata": {},
   "outputs": [
    {
     "data": {
      "text/plain": [
       "(9.8, 990.2, 0.2, 1, 20.2, 0, 2009.8, 9.799999999999955)"
      ]
     },
     "execution_count": 90,
     "metadata": {},
     "output_type": "execute_result"
    }
   ],
   "source": [
    "swapXInYSide(10, 1, 20, 0, 0.02, 2000, 1000, 1, 2, 2000, 1000)"
   ]
  },
  {
   "cell_type": "code",
   "execution_count": null,
   "id": "25dcd7af",
   "metadata": {},
   "outputs": [],
   "source": []
  },
  {
   "cell_type": "code",
   "execution_count": null,
   "id": "d419d193",
   "metadata": {},
   "outputs": [],
   "source": [
    "def swapXInXSide(x_in_X_side, x_excess, y_excess, fee, x_reserve, y_reserve, x_price, y_price, x_coord, y_coord):\n",
    "    x_coord_norm = x_coord/x_reserve\n",
    "    y_coord_norm = y_coord/y_reserve\n",
    "    x_virtual = (y_reserve * y_price)/x_price\n",
    "    y_virtual = (x_reserve * x_price)/y_price\n",
    "    \n",
    "    y_out_X_side = 0 \n",
    "    x_in_X_side_max = (x_reserve + (y_excess * y_price) / x_price) - x_coord  #(x_coord_norm - x_centre) * x_reserve + (y_excess * y_price) / x_price  #x_coord - x_reserve + (y_excess * y_price) / x_price \n",
    "    #the difference between x-coordinate of the external boundary of the X excess curve and the current x-coordinate\n",
    "    if x_in_X_side <= x_in_X_side_max: #x-coordinate somewhere on the X side\n",
    "        x_coord += x_in_X_side\n",
    "        x_coord_norm = x_coord/x_reserve\n",
    "        \n",
    "        if x_coord <= x_reserve: #x-coordinate on X main curve\n",
    "            y_out_X_side = y_coord - getYEulerSwap(x_coord, x_reserve, y_virtual, c_x)\n",
    "            active_region = 1\n",
    "            #y_out_X_side_fee = fee * y_out_X_side\n",
    "            #y_out_X_side -= y_out_X_side_fee\n",
    "            #y_reserve -= y_out_X_side\n",
    "        else: #x-coordinate on X excess curve\n",
    "            y_out_X_side = getYEulerSwapExcess(x_in_X_side, x_price, y_price)\n",
    "            active_region = 2\n",
    "        \n",
    "        y_coord -=y_out_X_side\n",
    "        y_out_X_side_fee = fee * y_out_X_side\n",
    "        y_out_X_side -= y_out_X_side_fee\n",
    "        y_excess += y_out_X_side_fee\n",
    "        x_excess += 0\n",
    "        y_coord += y_out_X_side_fee\n",
    "        #x_reserve += x_in_X_side\n",
    "        \n",
    "\n",
    "        \n",
    "        return x_in_X_side, y_out_X_side, y_out_X_side_fee, active_region, x_excess, y_excess, x_coord, y_coord\n",
    "        \n",
    "    else: #x-coordinate somewhere on the Y side\n",
    "        active_region = 0\n",
    "        x_in_Y_side = x_in_X_side - x_in_X_side_max\n",
    "        x_in_X_side = x_in_X_side_max\n",
    "        y_out_X_side = y_coord - y_reserve\n",
    "        \n",
    "        y_out_X_side_fee = fee * y_out_X_side\n",
    "        y_out_X_side -= y_out_X_side_fee\n",
    "        #x_coord = x_virtual\n",
    "        #y_coord = y_reserve + (x_excess * x_price) / y_price\n",
    "        \n",
    "        x_in, y_out_Y_side, x_in_Y_side_fee, active_region0, x_excess0, y_excess0, x_coord0, y_coord0 = swapXInYSide(x_in_Y_side, x_excess, y_excess, fee, x_reserve, y_reserve, x_price, y_price, x_coord, y_coord)\n",
    "        x_reserve += (x_in_X_side + x_in_Y_side)\n",
    "        y_reserve -= (y_out_Y_side+ y_out_X_side)\n",
    "        y_excess += y_out_X_side_fee \n",
    "        x_excess += 0#x_in_Y_side_fee \n",
    "        \n",
    "        y_coord =  y_coord -(y_out_X_side+y_out_Y_side)\n",
    "        x_coord += (x_in_Y_side+ x_in_X_side)\n",
    "        \n",
    "        return x_in_Y_side+ x_in_X_side, y_out_X_side+y_out_Y_side, y_out_X_side_fee + x_in_Y_side_fee, active_region, x_excess, y_excess, x_coord, y_coord"
   ]
  },
  {
   "cell_type": "code",
   "execution_count": null,
   "id": "89b77cae",
   "metadata": {},
   "outputs": [],
   "source": []
  },
  {
   "cell_type": "markdown",
   "id": "7dbabf22",
   "metadata": {},
   "source": [
    "# Swap logic without fees and excess curves"
   ]
  },
  {
   "cell_type": "code",
   "execution_count": 4,
   "id": "d81aa93b",
   "metadata": {},
   "outputs": [],
   "source": [
    "def getYEulerSwap(c, x0, x, dx, px, py):\n",
    "    y_new = px/py*(c*(2*x0 - (x+dx)) + (1-c)* ((x ** 2)/x+dx))\n",
    "    return y_new"
   ]
  },
  {
   "cell_type": "code",
   "execution_count": 5,
   "id": "57bf5a43",
   "metadata": {},
   "outputs": [],
   "source": [
    "def getXEulerSwap(c, y0, x, dx, px, py):\n",
    "    y_new = - ((x+dx) * px/py - 2*c*y0 - np.sqrt(((x+dx) * px/py - 2*c*y0)**2 + 4*c*(1-c)*y0**2))/2*c\n",
    "    return y_new"
   ]
  },
  {
   "cell_type": "code",
   "execution_count": 429,
   "id": "b774ff28",
   "metadata": {},
   "outputs": [],
   "source": [
    "#Swap functions with fee attribution logic:\n",
    "\n",
    "def swapXOutXSide(x_out_X_side, c_x, x_centre, x_coord, y_coord, x_price, y_price): \n",
    "\n",
    "    y_in_X_side = getYEulerSwap(c_x, x_centre, x_coord, x_out_X_side, x_price, y_price) - y_coord\n",
    "    x_coord -= x_out_X_side\n",
    "    y_coord = y_coord + y_in_X_side\n",
    "    \n",
    "    return x_out_X_side, y_in_X_side, x_coord, y_coord"
   ]
  },
  {
   "cell_type": "code",
   "execution_count": 430,
   "id": "fcd1686b",
   "metadata": {},
   "outputs": [],
   "source": [
    "def swapXInXSide(x_in_X_side, c_x, y_centre, x_coord, y_coord, x_price, y_price):  \n",
    "    y_out_X_side = getYEulerSwap(c_x, y_centre, x_coord, x_in_X_side, x_price, y_price) - y_coord\n",
    "            \n",
    "    y_coord -= y_out_X_side\n",
    "    x_coord += x_in_X_side\n",
    "        \n",
    "    return x_in_X_side, y_out_X_side, x_coord, y_coord"
   ]
  },
  {
   "cell_type": "code",
   "execution_count": 813,
   "id": "b3653c53",
   "metadata": {},
   "outputs": [],
   "source": [
    "#Swap functions with fee attribution logic:\n",
    "\n",
    "def swapXOutXSide(x_out_X_side, c, x_centre, y_centre, x_coord, y_coord, x_price, y_price): \n",
    "\n",
    "    y_in_X_side = getYEulerSwap(c, x_centre, x_coord, x_out_X_side, x_price, y_price) - y_coord\n",
    "    x_coord = x_coord + x_out_X_side\n",
    "    y_coord = y_coord + y_in_X_side\n",
    "    \n",
    "    return x_out_X_side, y_in_X_side, x_coord, y_coord"
   ]
  },
  {
   "cell_type": "code",
   "execution_count": 943,
   "id": "abb86009",
   "metadata": {},
   "outputs": [],
   "source": [
    "def swapXOutYSide(x_out_Y_side, c, x_centre, y_centre, x_coord, y_coord, x_price, y_price):\n",
    "    y_in_Y_side = 0\n",
    "    \n",
    "    x_out_Y_side_max = x_coord - x_centre \n",
    "        \n",
    "    if abs(x_out_Y_side) <= x_out_Y_side_max: #x-coordinate on the Y side\n",
    "        \n",
    "        y_in_Y_side = getXEulerSwap(c, x_centre, x_coord, x_out_Y_side, x_price, y_price) - y_coord\n",
    "        x_coord += x_out_Y_side       \n",
    "        y_coord += y_in_Y_side\n",
    "        \n",
    "        return x_out_Y_side, y_in_Y_side, x_coord, y_coord\n",
    "            \n",
    "    else: #x-coordinate somewhere on the X side\n",
    "        x_out_X_side = abs(x_out_Y_side) - x_out_Y_side_max \n",
    "        x_out_Y_side = x_out_Y_side_max\n",
    "        y_in_Y_side = x_out_Y_side/y_price\n",
    "        \n",
    "        x_coord -=abs(x_out_Y_side)\n",
    "        y_coord += y_in_Y_side\n",
    "        \n",
    "        y_in_X_side = getYEulerSwap(c, x_centre, x_coord, x_out_X_side, x_price, y_price) - y_coord\n",
    "  \n",
    "        y_coord += y_in_X_side \n",
    "        x_coord = x_coord - abs(x_out_X_side)\n",
    "\n",
    "        return x_out_X_side + x_out_Y_side, y_in_Y_side+ y_in_X_side, x_coord, y_coord"
   ]
  },
  {
   "cell_type": "code",
   "execution_count": 731,
   "id": "660b8f27",
   "metadata": {},
   "outputs": [],
   "source": [
    "def swapXInYSide(x_in_Y_side, c, x_centre, y_centre, x_coord, y_coord, x_price, y_price): \n",
    "    y_out_Y_side = 0\n",
    "    x_coord += x_in_Y_side\n",
    "\n",
    "    y_out_Y_side = getXEulerSwap(c, x_centre, x_coord, x_in_Y_side, x_price, y_price) \n",
    "        \n",
    "    y_coord -= y_out_Y_side \n",
    "    \n",
    "    return x_in_Y_side, y_out_Y_side, x_coord, y_coord"
   ]
  },
  {
   "cell_type": "code",
   "execution_count": 732,
   "id": "62377d30",
   "metadata": {},
   "outputs": [],
   "source": [
    "def swapXInXSide(x_in_X_side, c, x_centre, y_centre, x_coord, y_coord, x_price, y_price):\n",
    "    \n",
    "    y_out_X_side = 0 \n",
    "    x_in_X_side_max = x_centre - x_coord \n",
    "    \n",
    "    if x_in_X_side <= x_in_X_side_max: #x-coordinate somewhere on the X side\n",
    "        x_coord += x_in_X_side\n",
    "        \n",
    "        y_out_X_side = y_coord - getYEulerSwap(x_coord, x_reserve, y_virtual, c_x)\n",
    "            \n",
    "        y_coord -=y_out_X_side\n",
    "\n",
    "        return x_in_X_side, y_out_X_side, x_coord, y_coord\n",
    "        \n",
    "    else: #x-coordinate somewhere on the Y side\n",
    "        x_in_Y_side = x_in_X_side - x_in_X_side_max\n",
    "        x_in_X_side = x_in_X_side_max\n",
    "        y_out_X_side = y_coord - y_centre\n",
    "        \n",
    "        x_in, y_out_Y_side, x_coord0, y_coord0 = swapXInYSide(x_in_Y_side, c, x_centre, y_centre, x_coord, y_coord, x_price, y_price)\n",
    " \n",
    "        y_coord =  y_coord -(y_out_X_side+y_out_Y_side)\n",
    "        x_coord += (x_in_Y_side+ x_in_X_side)\n",
    "        \n",
    "        return x_in_Y_side+ x_in_X_side, y_out_X_side+y_out_Y_side, x_coord, y_coord"
   ]
  },
  {
   "cell_type": "code",
   "execution_count": 73,
   "id": "0de2e241",
   "metadata": {},
   "outputs": [
    {
     "data": {
      "text/plain": [
       "2.0"
      ]
     },
     "execution_count": 73,
     "metadata": {},
     "output_type": "execute_result"
    }
   ],
   "source": [
    "price_x = 1\n",
    "price_y0 = 2\n",
    "x0 = 10000\n",
    "y0 = x0/price_y0\n",
    "dx = 10\n",
    "c=0.7\n",
    "yt = price_x/price_y0 * (c *(2*x0 - (x0-dx)) + (1-c)* (x0**2/x0-dx))\n",
    "yt - y0"
   ]
  },
  {
   "cell_type": "code",
   "execution_count": null,
   "id": "b0028367",
   "metadata": {},
   "outputs": [],
   "source": []
  },
  {
   "cell_type": "code",
   "execution_count": 114,
   "id": "27eb9704",
   "metadata": {},
   "outputs": [],
   "source": [
    "#IL calculations as function of c: \n",
    "price_x = 1\n",
    "price_y = 2\n",
    "x0 = 100000000\n",
    "y0 = x0/price_y0\n",
    "dx = 10\n",
    "cs = np.arange(0, 1.1, 0.1)\n",
    "df = pd.DataFrame()\n",
    "df1 = pd.DataFrame()\n",
    "ils = []\n",
    "for c in cs:\n",
    "    yt = price_x/price_y * (c *(2*x0 - (x0-dx)) + (1-c)* (x0**2/x0-dx))\n",
    "    dy = yt - y0\n",
    "    xt = x0 - dx + dy * price_y/price_x\n",
    "    il = (x0 - xt)/x0\n",
    "    ils.append(il)"
   ]
  },
  {
   "cell_type": "code",
   "execution_count": 115,
   "id": "2fc27a97",
   "metadata": {},
   "outputs": [
    {
     "data": {
      "text/plain": [
       "[<matplotlib.lines.Line2D at 0x7fd35c3df790>]"
      ]
     },
     "execution_count": 115,
     "metadata": {},
     "output_type": "execute_result"
    },
    {
     "data": {
      "image/png": "[encoded data removed]",
      "text/plain": [
       "<Figure size 432x288 with 1 Axes>"
      ]
     },
     "metadata": {
      "needs_background": "light"
     },
     "output_type": "display_data"
    }
   ],
   "source": [
    "plt.plot(ils, cs)"
   ]
  },
  {
   "cell_type": "code",
   "execution_count": 91,
   "id": "e6701f19",
   "metadata": {},
   "outputs": [],
   "source": [
    "#IL calculations as function of c: \n",
    "price_x = 1\n",
    "price_y0 = 2\n",
    "x0 = 100000000\n",
    "y0 = x0/price_y0\n",
    "dx = 10\n",
    "cs = np.arange(0, 1, 0.1)\n",
    "returns = np.arange(0, 0.5, 0.01)\n",
    "df = pd.DataFrame()\n",
    "df1 = pd.DataFrame()\n",
    "for c in cs:\n",
    "    ils = []\n",
    "    dys = []\n",
    "    for ret in returns: \n",
    "        price_y = price_y0 - price_y0*ret\n",
    "        yt = price_x/price_y * (c *(2*x0 - (x0+dx)) + (1-c)* (x0**2/x0+dx))\n",
    "        dy = yt - y0\n",
    "        xt = x0 - dx + dy * price_y/price_x\n",
    "        il = (x0 - xt)/x0\n",
    "        dys.append(dy)\n",
    "        ils.append(il)\n",
    "    df[c] = ils\n",
    "    #df1['dy_c{}'.format(c)] = dys"
   ]
  },
  {
   "cell_type": "code",
   "execution_count": 92,
   "id": "4bbd40f8",
   "metadata": {},
   "outputs": [
    {
     "data": {
      "text/html": [
       "<div>\n",
       "<style scoped>\n",
       "    .dataframe tbody tr th:only-of-type {\n",
       "        vertical-align: middle;\n",
       "    }\n",
       "\n",
       "    .dataframe tbody tr th {\n",
       "        vertical-align: top;\n",
       "    }\n",
       "\n",
       "    .dataframe thead th {\n",
       "        text-align: right;\n",
       "    }\n",
       "</style>\n",
       "<table border=\"1\" class=\"dataframe\">\n",
       "  <thead>\n",
       "    <tr style=\"text-align: right;\">\n",
       "      <th></th>\n",
       "      <th>0.0</th>\n",
       "      <th>0.1</th>\n",
       "      <th>0.2</th>\n",
       "      <th>0.3</th>\n",
       "      <th>0.4</th>\n",
       "      <th>0.5</th>\n",
       "      <th>0.6</th>\n",
       "      <th>0.7</th>\n",
       "      <th>0.8</th>\n",
       "      <th>0.9</th>\n",
       "    </tr>\n",
       "  </thead>\n",
       "  <tbody>\n",
       "    <tr>\n",
       "      <th>0</th>\n",
       "      <td>0.00</td>\n",
       "      <td>2.000000e-08</td>\n",
       "      <td>4.000000e-08</td>\n",
       "      <td>6.000000e-08</td>\n",
       "      <td>8.000000e-08</td>\n",
       "      <td>1.000000e-07</td>\n",
       "      <td>1.200000e-07</td>\n",
       "      <td>1.400000e-07</td>\n",
       "      <td>1.600000e-07</td>\n",
       "      <td>1.800000e-07</td>\n",
       "    </tr>\n",
       "    <tr>\n",
       "      <th>1</th>\n",
       "      <td>-0.01</td>\n",
       "      <td>-9.999980e-03</td>\n",
       "      <td>-9.999960e-03</td>\n",
       "      <td>-9.999940e-03</td>\n",
       "      <td>-9.999920e-03</td>\n",
       "      <td>-9.999900e-03</td>\n",
       "      <td>-9.999880e-03</td>\n",
       "      <td>-9.999860e-03</td>\n",
       "      <td>-9.999840e-03</td>\n",
       "      <td>-9.999820e-03</td>\n",
       "    </tr>\n",
       "    <tr>\n",
       "      <th>2</th>\n",
       "      <td>-0.02</td>\n",
       "      <td>-1.999998e-02</td>\n",
       "      <td>-1.999996e-02</td>\n",
       "      <td>-1.999994e-02</td>\n",
       "      <td>-1.999992e-02</td>\n",
       "      <td>-1.999990e-02</td>\n",
       "      <td>-1.999988e-02</td>\n",
       "      <td>-1.999986e-02</td>\n",
       "      <td>-1.999984e-02</td>\n",
       "      <td>-1.999982e-02</td>\n",
       "    </tr>\n",
       "    <tr>\n",
       "      <th>3</th>\n",
       "      <td>-0.03</td>\n",
       "      <td>-2.999998e-02</td>\n",
       "      <td>-2.999996e-02</td>\n",
       "      <td>-2.999994e-02</td>\n",
       "      <td>-2.999992e-02</td>\n",
       "      <td>-2.999990e-02</td>\n",
       "      <td>-2.999988e-02</td>\n",
       "      <td>-2.999986e-02</td>\n",
       "      <td>-2.999984e-02</td>\n",
       "      <td>-2.999982e-02</td>\n",
       "    </tr>\n",
       "    <tr>\n",
       "      <th>4</th>\n",
       "      <td>-0.04</td>\n",
       "      <td>-3.999998e-02</td>\n",
       "      <td>-3.999996e-02</td>\n",
       "      <td>-3.999994e-02</td>\n",
       "      <td>-3.999992e-02</td>\n",
       "      <td>-3.999990e-02</td>\n",
       "      <td>-3.999988e-02</td>\n",
       "      <td>-3.999986e-02</td>\n",
       "      <td>-3.999984e-02</td>\n",
       "      <td>-3.999982e-02</td>\n",
       "    </tr>\n",
       "  </tbody>\n",
       "</table>\n",
       "</div>"
      ],
      "text/plain": [
       "    0.0           0.1           0.2           0.3           0.4           0.5  \\\n",
       "0  0.00  2.000000e-08  4.000000e-08  6.000000e-08  8.000000e-08  1.000000e-07   \n",
       "1 -0.01 -9.999980e-03 -9.999960e-03 -9.999940e-03 -9.999920e-03 -9.999900e-03   \n",
       "2 -0.02 -1.999998e-02 -1.999996e-02 -1.999994e-02 -1.999992e-02 -1.999990e-02   \n",
       "3 -0.03 -2.999998e-02 -2.999996e-02 -2.999994e-02 -2.999992e-02 -2.999990e-02   \n",
       "4 -0.04 -3.999998e-02 -3.999996e-02 -3.999994e-02 -3.999992e-02 -3.999990e-02   \n",
       "\n",
       "            0.6           0.7           0.8           0.9  \n",
       "0  1.200000e-07  1.400000e-07  1.600000e-07  1.800000e-07  \n",
       "1 -9.999880e-03 -9.999860e-03 -9.999840e-03 -9.999820e-03  \n",
       "2 -1.999988e-02 -1.999986e-02 -1.999984e-02 -1.999982e-02  \n",
       "3 -2.999988e-02 -2.999986e-02 -2.999984e-02 -2.999982e-02  \n",
       "4 -3.999988e-02 -3.999986e-02 -3.999984e-02 -3.999982e-02  "
      ]
     },
     "execution_count": 92,
     "metadata": {},
     "output_type": "execute_result"
    }
   ],
   "source": [
    "df.head()"
   ]
  },
  {
   "cell_type": "code",
   "execution_count": 95,
   "id": "e7c86f09",
   "metadata": {},
   "outputs": [
    {
     "data": {
      "text/plain": [
       "<mpl_toolkits.mplot3d.art3d.Poly3DCollection at 0x7fd35bc04100>"
      ]
     },
     "execution_count": 95,
     "metadata": {},
     "output_type": "execute_result"
    },
    {
     "data": {
      "image/png": "[encoded data removed]",
      "text/plain": [
       "<Figure size 432x288 with 1 Axes>"
      ]
     },
     "metadata": {
      "needs_background": "light"
     },
     "output_type": "display_data"
    }
   ],
   "source": [
    "x = df.columns\n",
    "y = df.index\n",
    "X,Y = np.meshgrid(x,y)\n",
    "Z = df\n",
    "fig = plt.figure()\n",
    "ax = fig.add_subplot(111, projection='3d')\n",
    "ax.plot_surface(X, Y, Z)"
   ]
  },
  {
   "cell_type": "code",
   "execution_count": null,
   "id": "1539cb34",
   "metadata": {},
   "outputs": [],
   "source": [
    "ax.plot_trisurf(df.x, df.y, df.z, cmap=cm.jet, linewidth=0.2)\n",
    "plt.show()"
   ]
  },
  {
   "cell_type": "code",
   "execution_count": 379,
   "id": "a4261ed9",
   "metadata": {},
   "outputs": [],
   "source": [
    "amounts_x = test_set['amount0']\n",
    "amounts_y = test_set['amount1']\n",
    "y_prices = test_set['ma']\n",
    "y_price = test_set['ma'].iloc[0]\n",
    "x_price = 1\n",
    "y_ps = []\n",
    "x0 = 100000000\n",
    "y_total = 0\n",
    "x_total = x0\n",
    "x_totals = []\n",
    "y_totals = []\n",
    "x_centre = x0\n",
    "y_centre = x_centre/y_price\n",
    "c = 1\n",
    "y_coord = x_centre/y_price\n",
    "x_coord = x0\n",
    "x_coords = []\n",
    "dys = []\n",
    "dxs = []\n",
    "\n",
    "for amount_x, amount_y, y_price in zip(amounts_x, amounts_y, y_prices):\n",
    "    #y_coord = x_centre/y_price\n",
    "    #x_coord = x_centre\n",
    "    if amount_x < 0:\n",
    "        if x_coord <=x_centre: # f(x)\n",
    "            y_in = getYEulerSwap(c, x_centre, x_coord, amount_x, x_price, y_price) - y_coord\n",
    "            y_total += abs(y_in)\n",
    "            x_total -=abs(amount_x)\n",
    "            x_coord = x_coord - abs(amount_x)\n",
    "            y_coord = y_coord + abs(y_in)\n",
    "            dys.append(abs(y_in))\n",
    "            dxs.append(amount_x)\n",
    "        else: \n",
    "            y_in = x_coord - getXEulerSwap(c, x_centre, y_coord, abs(amount_y), y_price, x_price)\n",
    "            x_coord = x_coord - abs(amount_x)\n",
    "            y_coord = y_coord + abs(y_in)\n",
    "            dys.append(abs(y_in))\n",
    "            dxs.append(amount_x)\n",
    "    else:\n",
    "        if abs(amount_y) < y_total:\n",
    "            y_total -= abs(amount_y)\n",
    "            amount_x = x_coord - getXEulerSwap(c, x_centre, y_coord, abs(amount_y), y_price, x_price)\n",
    "            x_total+=amount_x\n",
    "            #x_coord += amount_x\n",
    "            #y_coord -=abs(amount_y)\n",
    "            dys.append(amount_y)\n",
    "            dxs.append(amount_x)\n",
    "        else: \n",
    "            y_total = 0\n",
    "            x_total += (abs(amount_y) - y_total) * 1/y_price\n",
    "            #y_coord -=abs(amount_y)\n",
    "            dys.append(amount_y)\n",
    "            dxs.append(amount_x)\n",
    "    x_totals.append(x_total) \n",
    "    y_totals.append(y_total)\n",
    "    y_ps.append(y_price)"
   ]
  },
  {
   "cell_type": "code",
   "execution_count": 380,
   "id": "78ea3e3d",
   "metadata": {},
   "outputs": [],
   "source": [
    "il_x1 = pd.DataFrame()\n",
    "il_x1['x_coords'] = x_totals\n",
    "il_x1['price'] = y_ps\n",
    "il_x1['y_total'] = y_totals\n",
    "il_x1['dy'] = dys\n",
    "il_x1['dx'] = dxs\n",
    "il_x1['p_eff'] = il_x1['dx']/il_x1['dy']\n",
    "#il_x1['regions'] = regions\n",
    "il_x1['value_x'] = il_x1['x_coords'] + il_x1['y_total']*il_x1['price']\n",
    "#il_x = il_x.iloc[1:]\n",
    "il_x1['il'] = (il_x1['value_x'] - x0)/x0\n",
    "il_x1['return'] = (il_x1['price'].shift(1) - il_x1['price'].iloc[0]) / il_x1['price'].iloc[0]"
   ]
  },
  {
   "cell_type": "code",
   "execution_count": 311,
   "id": "3cc50014",
   "metadata": {},
   "outputs": [
    {
     "data": {
      "image/png": "[encoded data removed]",
      "text/plain": [
       "<Figure size 432x288 with 1 Axes>"
      ]
     },
     "metadata": {
      "needs_background": "light"
     },
     "output_type": "display_data"
    }
   ],
   "source": [
    "plt.plot(dxs);"
   ]
  },
  {
   "cell_type": "code",
   "execution_count": 312,
   "id": "0f8c3421",
   "metadata": {},
   "outputs": [
    {
     "data": {
      "text/plain": [
       "[<matplotlib.lines.Line2D at 0x7f804dc7dd90>]"
      ]
     },
     "execution_count": 312,
     "metadata": {},
     "output_type": "execute_result"
    },
    {
     "data": {
      "image/png": "[encoded data removed]",
      "text/plain": [
       "<Figure size 432x288 with 1 Axes>"
      ]
     },
     "metadata": {
      "needs_background": "light"
     },
     "output_type": "display_data"
    }
   ],
   "source": [
    "plt.plot(amounts_x)"
   ]
  },
  {
   "cell_type": "code",
   "execution_count": 313,
   "id": "814205e8",
   "metadata": {},
   "outputs": [
    {
     "data": {
      "text/plain": [
       "[<matplotlib.lines.Line2D at 0x7f8047e7dbe0>]"
      ]
     },
     "execution_count": 313,
     "metadata": {},
     "output_type": "execute_result"
    },
    {
     "data": {
      "image/png": "[encoded data removed]",
      "text/plain": [
       "<Figure size 432x288 with 1 Axes>"
      ]
     },
     "metadata": {
      "needs_background": "light"
     },
     "output_type": "display_data"
    }
   ],
   "source": [
    "plt.plot(amounts_y)"
   ]
  },
  {
   "cell_type": "code",
   "execution_count": 382,
   "id": "a14741d0",
   "metadata": {},
   "outputs": [
    {
     "data": {
      "text/plain": [
       "<Figure size 600x500 with 0 Axes>"
      ]
     },
     "metadata": {},
     "output_type": "display_data"
    },
    {
     "data": {
      "image/png": "[encoded data removed]",
      "text/plain": [
       "<Figure size 432x288 with 2 Axes>"
      ]
     },
     "metadata": {
      "needs_background": "light"
     },
     "output_type": "display_data"
    }
   ],
   "source": [
    "plt.figure(figsize = (6,5), dpi =100)\n",
    "fig, ax1 = plt.subplots()\n",
    "\n",
    "ax1 = plt.subplot()\n",
    "ax1.plot(il_x['il'], color=\"blue\")              \n",
    "ax1.set_ylabel('ES IL, c=0.5', color=\"blue\")       \n",
    "ax1.tick_params(axis='y', colors=\"blue\")       \n",
    "\n",
    "ax2 = ax1.twinx()\n",
    "ax2.plot(il_x['return'], color=\"red\")      \n",
    "ax2.set_ylabel('return', color=\"red\")       \n",
    "ax2.tick_params(axis='y', colors=\"red\")\n",
    "plt.show();"
   ]
  },
  {
   "cell_type": "code",
   "execution_count": 116,
   "id": "c2843ae9",
   "metadata": {},
   "outputs": [
    {
     "ename": "NameError",
     "evalue": "name 'il_x1' is not defined",
     "output_type": "error",
     "traceback": [
      "\u001b[0;31m---------------------------------------------------------------------------\u001b[0m",
      "\u001b[0;31mNameError\u001b[0m                                 Traceback (most recent call last)",
      "\u001b[0;32m<ipython-input-116-c911db078eaa>\u001b[0m in \u001b[0;36m<module>\u001b[0;34m\u001b[0m\n\u001b[1;32m      4\u001b[0m \u001b[0;31m#fig.title('IL vs return, c=0.5')\u001b[0m\u001b[0;34m\u001b[0m\u001b[0;34m\u001b[0m\u001b[0;34m\u001b[0m\u001b[0m\n\u001b[1;32m      5\u001b[0m \u001b[0max1\u001b[0m \u001b[0;34m=\u001b[0m \u001b[0mplt\u001b[0m\u001b[0;34m.\u001b[0m\u001b[0msubplot\u001b[0m\u001b[0;34m(\u001b[0m\u001b[0;34m)\u001b[0m\u001b[0;34m\u001b[0m\u001b[0;34m\u001b[0m\u001b[0m\n\u001b[0;32m----> 6\u001b[0;31m \u001b[0max1\u001b[0m\u001b[0;34m.\u001b[0m\u001b[0mplot\u001b[0m\u001b[0;34m(\u001b[0m\u001b[0mil_x1\u001b[0m\u001b[0;34m[\u001b[0m\u001b[0;34m'il'\u001b[0m\u001b[0;34m]\u001b[0m\u001b[0;34m,\u001b[0m \u001b[0mcolor\u001b[0m\u001b[0;34m=\u001b[0m\u001b[0;34m\"blue\"\u001b[0m\u001b[0;34m)\u001b[0m\u001b[0;34m\u001b[0m\u001b[0;34m\u001b[0m\u001b[0m\n\u001b[0m\u001b[1;32m      7\u001b[0m \u001b[0max1\u001b[0m\u001b[0;34m.\u001b[0m\u001b[0mset_ylabel\u001b[0m\u001b[0;34m(\u001b[0m\u001b[0;34m'ES IL, c=0'\u001b[0m\u001b[0;34m,\u001b[0m \u001b[0mcolor\u001b[0m\u001b[0;34m=\u001b[0m\u001b[0;34m\"blue\"\u001b[0m\u001b[0;34m)\u001b[0m\u001b[0;34m\u001b[0m\u001b[0;34m\u001b[0m\u001b[0m\n\u001b[1;32m      8\u001b[0m \u001b[0max1\u001b[0m\u001b[0;34m.\u001b[0m\u001b[0mtick_params\u001b[0m\u001b[0;34m(\u001b[0m\u001b[0maxis\u001b[0m\u001b[0;34m=\u001b[0m\u001b[0;34m'y'\u001b[0m\u001b[0;34m,\u001b[0m \u001b[0mcolors\u001b[0m\u001b[0;34m=\u001b[0m\u001b[0;34m\"blue\"\u001b[0m\u001b[0;34m)\u001b[0m\u001b[0;34m\u001b[0m\u001b[0;34m\u001b[0m\u001b[0m\n",
      "\u001b[0;31mNameError\u001b[0m: name 'il_x1' is not defined"
     ]
    },
    {
     "data": {
      "text/plain": [
       "<Figure size 600x500 with 0 Axes>"
      ]
     },
     "metadata": {},
     "output_type": "display_data"
    },
    {
     "data": {
      "image/png": "[encoded data removed]",
      "text/plain": [
       "<Figure size 432x288 with 1 Axes>"
      ]
     },
     "metadata": {
      "needs_background": "light"
     },
     "output_type": "display_data"
    }
   ],
   "source": [
    "plt.figure(figsize = (6,5), dpi =100)\n",
    "#plt.title(' IL vs return, c=0.5')\n",
    "fig, ax1 = plt.subplots()\n",
    "#fig.title('IL vs return, c=0.5')\n",
    "ax1 = plt.subplot()\n",
    "ax1.plot(il_x1['il'], color=\"blue\")              \n",
    "ax1.set_ylabel('ES IL, c=0', color=\"blue\")       \n",
    "ax1.tick_params(axis='y', colors=\"blue\")       \n",
    "\n",
    "ax2 = ax1.twinx()\n",
    "ax2.plot(il_x1['return'], color=\"red\")      \n",
    "ax2.set_ylabel('return', color=\"red\")       \n",
    "ax2.tick_params(axis='y', colors=\"red\")\n",
    "plt.show();"
   ]
  },
  {
   "cell_type": "code",
   "execution_count": 241,
   "id": "b5b24aaf",
   "metadata": {},
   "outputs": [
    {
     "data": {
      "image/png": "[encoded data removed]",
      "text/plain": [
       "<Figure size 432x288 with 1 Axes>"
      ]
     },
     "metadata": {
      "needs_background": "light"
     },
     "output_type": "display_data"
    }
   ],
   "source": [
    "il_x1['x_coords'].plot();"
   ]
  },
  {
   "cell_type": "code",
   "execution_count": 242,
   "id": "22435ff9",
   "metadata": {},
   "outputs": [
    {
     "data": {
      "text/plain": [
       "[<matplotlib.lines.Line2D at 0x7f804bcddbb0>]"
      ]
     },
     "execution_count": 242,
     "metadata": {},
     "output_type": "execute_result"
    },
    {
     "data": {
      "image/png": "[encoded data removed]",
      "text/plain": [
       "<Figure size 432x288 with 1 Axes>"
      ]
     },
     "metadata": {
      "needs_background": "light"
     },
     "output_type": "display_data"
    }
   ],
   "source": [
    "plt.plot(il_x1['dx'])"
   ]
  },
  {
   "cell_type": "code",
   "execution_count": 85,
   "id": "f74a899d",
   "metadata": {},
   "outputs": [
    {
     "data": {
      "text/plain": [
       "394110.0"
      ]
     },
     "execution_count": 85,
     "metadata": {},
     "output_type": "execute_result"
    }
   ],
   "source": [
    "875800*0.45"
   ]
  },
  {
   "cell_type": "code",
   "execution_count": 134,
   "id": "206c8085",
   "metadata": {},
   "outputs": [],
   "source": [
    "#IL in ES:\n",
    "x_price = 1\n",
    "y_price = test_set['ma'].iloc[0]\n",
    "x_centre = 10000000\n",
    "y_centre = x_centre/y_price\n",
    "x_coord = x_centre\n",
    "y_coord = y_centre\n",
    "c = 1\n",
    "x_ins = []\n",
    "x_outs = []\n",
    "y_ins = []\n",
    "y_outs = []\n",
    "amount_xs = test_set['amount0']  #[-2, 2, 1, -2, 2, -4, 2, 1, -2]\n",
    "y_prices = test_set['ma']\n",
    "x_coords = []\n",
    "y_coords = []\n",
    "y_ps = []\n",
    "p_effs = []\n",
    "\n",
    "y_x = 0\n",
    "y_xs = []\n",
    "x_xs = []\n",
    "regions = []\n",
    "\n",
    "for (amount_x, y_price) in zip(amount_xs, y_prices): \n",
    "    if amount_x < 0:\n",
    "        y_in = getYEulerSwap(c, x_centre, x_coord, amount_x, x_price, y_price) - y_coord\n",
    "        y_coord += abs(y_in)\n",
    "        x_coord -=abs(amount_x)\n",
    "        y_x += abs(y_in)\n",
    "        x_x = x_coord\n",
    "        p_eff = amount_x/y_in\n",
    "        \n",
    "        p_effs.append(abs(p_eff))\n",
    "        y_ps.append(y_price)\n",
    "        y_xs.append(y_x)\n",
    "        x_xs.append(x_x)\n",
    "        y_ins.append(y_in)\n",
    "        x_coords.append(x_coord)\n",
    "        y_coords.append(y_coord)\n",
    "        regions.append('fx')\n",
    "        \n",
    "    else:\n",
    "        amount_y = amount_x/y_price\n",
    "        if abs(amount_y) < y_x: \n",
    "            x_in = x_coord - getXEulerSwap(c, x_centre, y_coord, abs(amount_y), y_price, x_price)\n",
    "            y_coord -= abs(amount_y)\n",
    "            x_coord+=x_in\n",
    "            x_x = x_coord\n",
    "            y_x = y_coord\n",
    "            regions.append('xy')\n",
    "        else: \n",
    "            x_x += (abs(amount_y) - y_x) * y_price\n",
    "            x_coord += abs(amount_y) * y_price\n",
    "            y_coord -= abs(amount_y)\n",
    "            y_x = 0\n",
    "            x_in = amount_y * y_price\n",
    "            regions.append('gy')\n",
    "            \n",
    "        p_eff = x_in/amount_y\n",
    "        p_effs.append(abs(p_eff))\n",
    "        x_ins.append(x_in)\n",
    "        x_xs.append(x_x)\n",
    "        y_xs.append(y_x)\n",
    "        y_ps.append(y_price)\n",
    "        y_outs.append(amount_y)\n",
    "        x_coords.append(x_coord)\n",
    "        y_coords.append(y_coord) \n"
   ]
  },
  {
   "cell_type": "code",
   "execution_count": null,
   "id": "973271ab",
   "metadata": {},
   "outputs": [],
   "source": []
  },
  {
   "cell_type": "code",
   "execution_count": 121,
   "id": "57fffd73",
   "metadata": {},
   "outputs": [
    {
     "data": {
      "text/plain": [
       "4.0"
      ]
     },
     "execution_count": 121,
     "metadata": {},
     "output_type": "execute_result"
    }
   ],
   "source": [
    "getXEulerSwap(1, 1000, 500, -2, 2, 1) - 1000"
   ]
  },
  {
   "cell_type": "code",
   "execution_count": 135,
   "id": "4a277dab",
   "metadata": {},
   "outputs": [],
   "source": [
    "il_x1 = pd.DataFrame()\n",
    "il_x1['x_coords'] = x_xs\n",
    "il_x1['p_eff'] = p_effs\n",
    "il_x1['price'] = y_ps\n",
    "il_x1['y_total'] = y_xs\n",
    "il_x1['regions'] = regions\n",
    "il_x1['value_x'] = il_x1['x_coords'] + il_x1['y_total']*il_x1['price']\n",
    "#il_x = il_x.iloc[1:]\n",
    "il_x1['il'] = (il_x1['value_x'] - x_centre)/x_centre\n",
    "il_x1['return'] = (il_x1['price'].shift(1) - il_x1['price'].iloc[0]) / il_x1['price'].iloc[0]"
   ]
  },
  {
   "cell_type": "code",
   "execution_count": 136,
   "id": "cdcfe47c",
   "metadata": {},
   "outputs": [],
   "source": [
    "il_x1['dif'] = il_x1['y_total'] - il_x['y_total']"
   ]
  },
  {
   "cell_type": "code",
   "execution_count": 137,
   "id": "36665404",
   "metadata": {},
   "outputs": [],
   "source": [
    "il_x1_s = il_x1[il_x1['regions'] == 'xy']\n",
    "dif = il_x1_s['p_eff'] - il_x1_s['price']"
   ]
  },
  {
   "cell_type": "code",
   "execution_count": null,
   "id": "14b779ed",
   "metadata": {},
   "outputs": [],
   "source": []
  },
  {
   "cell_type": "code",
   "execution_count": 113,
   "id": "93006197",
   "metadata": {},
   "outputs": [
    {
     "data": {
      "text/plain": [
       "<AxesSubplot:>"
      ]
     },
     "execution_count": 113,
     "metadata": {},
     "output_type": "execute_result"
    },
    {
     "data": {
      "image/png": "[encoded data removed]",
      "text/plain": [
       "<Figure size 432x288 with 1 Axes>"
      ]
     },
     "metadata": {
      "needs_background": "light"
     },
     "output_type": "display_data"
    }
   ],
   "source": [
    "il_x['y_total'].plot()"
   ]
  },
  {
   "cell_type": "code",
   "execution_count": 96,
   "id": "120aec64",
   "metadata": {},
   "outputs": [
    {
     "data": {
      "text/html": [
       "<div>\n",
       "<style scoped>\n",
       "    .dataframe tbody tr th:only-of-type {\n",
       "        vertical-align: middle;\n",
       "    }\n",
       "\n",
       "    .dataframe tbody tr th {\n",
       "        vertical-align: top;\n",
       "    }\n",
       "\n",
       "    .dataframe thead th {\n",
       "        text-align: right;\n",
       "    }\n",
       "</style>\n",
       "<table border=\"1\" class=\"dataframe\">\n",
       "  <thead>\n",
       "    <tr style=\"text-align: right;\">\n",
       "      <th></th>\n",
       "      <th>x_coords</th>\n",
       "      <th>price</th>\n",
       "      <th>y_total</th>\n",
       "      <th>value_x</th>\n",
       "      <th>il</th>\n",
       "      <th>return</th>\n",
       "    </tr>\n",
       "  </thead>\n",
       "  <tbody>\n",
       "    <tr>\n",
       "      <th>0</th>\n",
       "      <td>9.992726e+07</td>\n",
       "      <td>3014.732181</td>\n",
       "      <td>24.380347</td>\n",
       "      <td>1.000008e+08</td>\n",
       "      <td>0.000008</td>\n",
       "      <td>NaN</td>\n",
       "    </tr>\n",
       "    <tr>\n",
       "      <th>1</th>\n",
       "      <td>9.956825e+07</td>\n",
       "      <td>3014.516720</td>\n",
       "      <td>144.743701</td>\n",
       "      <td>1.000046e+08</td>\n",
       "      <td>0.000046</td>\n",
       "      <td>0.000000</td>\n",
       "    </tr>\n",
       "    <tr>\n",
       "      <th>2</th>\n",
       "      <td>9.932426e+07</td>\n",
       "      <td>3014.213492</td>\n",
       "      <td>226.584672</td>\n",
       "      <td>1.000072e+08</td>\n",
       "      <td>0.000072</td>\n",
       "      <td>-0.000071</td>\n",
       "    </tr>\n",
       "    <tr>\n",
       "      <th>3</th>\n",
       "      <td>9.900561e+07</td>\n",
       "      <td>3013.793361</td>\n",
       "      <td>333.586986</td>\n",
       "      <td>1.000110e+08</td>\n",
       "      <td>0.000110</td>\n",
       "      <td>-0.000172</td>\n",
       "    </tr>\n",
       "    <tr>\n",
       "      <th>4</th>\n",
       "      <td>9.857064e+07</td>\n",
       "      <td>3013.300345</td>\n",
       "      <td>479.566424</td>\n",
       "      <td>1.000157e+08</td>\n",
       "      <td>0.000157</td>\n",
       "      <td>-0.000311</td>\n",
       "    </tr>\n",
       "    <tr>\n",
       "      <th>5</th>\n",
       "      <td>9.807037e+07</td>\n",
       "      <td>3012.617963</td>\n",
       "      <td>647.666724</td>\n",
       "      <td>1.000215e+08</td>\n",
       "      <td>0.000215</td>\n",
       "      <td>-0.000475</td>\n",
       "    </tr>\n",
       "    <tr>\n",
       "      <th>6</th>\n",
       "      <td>9.807094e+07</td>\n",
       "      <td>3011.952648</td>\n",
       "      <td>647.473962</td>\n",
       "      <td>1.000211e+08</td>\n",
       "      <td>0.000211</td>\n",
       "      <td>-0.000701</td>\n",
       "    </tr>\n",
       "    <tr>\n",
       "      <th>7</th>\n",
       "      <td>9.734885e+07</td>\n",
       "      <td>3010.754509</td>\n",
       "      <td>890.351219</td>\n",
       "      <td>1.000295e+08</td>\n",
       "      <td>0.000295</td>\n",
       "      <td>-0.000922</td>\n",
       "    </tr>\n",
       "    <tr>\n",
       "      <th>8</th>\n",
       "      <td>9.720634e+07</td>\n",
       "      <td>3009.623735</td>\n",
       "      <td>938.350615</td>\n",
       "      <td>1.000304e+08</td>\n",
       "      <td>0.000304</td>\n",
       "      <td>-0.001319</td>\n",
       "    </tr>\n",
       "    <tr>\n",
       "      <th>9</th>\n",
       "      <td>9.669786e+07</td>\n",
       "      <td>3008.169583</td>\n",
       "      <td>1109.900622</td>\n",
       "      <td>1.000366e+08</td>\n",
       "      <td>0.000366</td>\n",
       "      <td>-0.001694</td>\n",
       "    </tr>\n",
       "  </tbody>\n",
       "</table>\n",
       "</div>"
      ],
      "text/plain": [
       "       x_coords        price      y_total       value_x        il    return\n",
       "0  9.992726e+07  3014.732181    24.380347  1.000008e+08  0.000008       NaN\n",
       "1  9.956825e+07  3014.516720   144.743701  1.000046e+08  0.000046  0.000000\n",
       "2  9.932426e+07  3014.213492   226.584672  1.000072e+08  0.000072 -0.000071\n",
       "3  9.900561e+07  3013.793361   333.586986  1.000110e+08  0.000110 -0.000172\n",
       "4  9.857064e+07  3013.300345   479.566424  1.000157e+08  0.000157 -0.000311\n",
       "5  9.807037e+07  3012.617963   647.666724  1.000215e+08  0.000215 -0.000475\n",
       "6  9.807094e+07  3011.952648   647.473962  1.000211e+08  0.000211 -0.000701\n",
       "7  9.734885e+07  3010.754509   890.351219  1.000295e+08  0.000295 -0.000922\n",
       "8  9.720634e+07  3009.623735   938.350615  1.000304e+08  0.000304 -0.001319\n",
       "9  9.669786e+07  3008.169583  1109.900622  1.000366e+08  0.000366 -0.001694"
      ]
     },
     "execution_count": 96,
     "metadata": {},
     "output_type": "execute_result"
    }
   ],
   "source": [
    "il_x.head(10)"
   ]
  },
  {
   "cell_type": "code",
   "execution_count": 76,
   "id": "3106fdc8",
   "metadata": {},
   "outputs": [],
   "source": [
    "p_diff = il_x1['p_eff'] +il_x1['price']"
   ]
  },
  {
   "cell_type": "code",
   "execution_count": 84,
   "id": "bcca228b",
   "metadata": {},
   "outputs": [],
   "source": [
    "il_x1_s = il_x1[il_x1['p_eff'] > 6000]"
   ]
  },
  {
   "cell_type": "code",
   "execution_count": null,
   "id": "fa1a6f91",
   "metadata": {},
   "outputs": [],
   "source": []
  },
  {
   "cell_type": "code",
   "execution_count": 60,
   "id": "b9af6ef9",
   "metadata": {},
   "outputs": [],
   "source": [
    "dif = il_x1['x_coords'] - il_x['x_coords']"
   ]
  },
  {
   "cell_type": "code",
   "execution_count": null,
   "id": "00ff18ce",
   "metadata": {},
   "outputs": [],
   "source": []
  },
  {
   "cell_type": "code",
   "execution_count": 50,
   "id": "9408ec60",
   "metadata": {},
   "outputs": [],
   "source": [
    "il_x = il_x.head(260)"
   ]
  },
  {
   "cell_type": "code",
   "execution_count": null,
   "id": "d31b4cb2",
   "metadata": {},
   "outputs": [],
   "source": []
  },
  {
   "cell_type": "code",
   "execution_count": 1005,
   "id": "768476d4",
   "metadata": {},
   "outputs": [
    {
     "data": {
      "text/plain": [
       "2.0"
      ]
     },
     "execution_count": 1005,
     "metadata": {},
     "output_type": "execute_result"
    }
   ],
   "source": [
    "1000 - getXEulerSwap(1, 1000, 500, 1, 2, 1)"
   ]
  },
  {
   "cell_type": "code",
   "execution_count": null,
   "id": "30909ecf",
   "metadata": {},
   "outputs": [],
   "source": [
    "[-2, 2, 1, -2, 2, -4, 2, 1, -2]"
   ]
  },
  {
   "cell_type": "code",
   "execution_count": null,
   "id": "32c5144e",
   "metadata": {},
   "outputs": [],
   "source": [
    "x_coord_right = [999, 1001, 1002, 1000, 1002, 998, 1000, 1001, 999]\n",
    "y_coord_right = [500.5, 499.5, 499, 500, 499, 501, 500, 499.5, 500.5 ]"
   ]
  },
  {
   "cell_type": "code",
   "execution_count": 11,
   "id": "e674df9c",
   "metadata": {},
   "outputs": [
    {
     "data": {
      "text/plain": [
       "[0, 1.0, 2.125, 2.0, 1.0]"
      ]
     },
     "execution_count": 11,
     "metadata": {},
     "output_type": "execute_result"
    }
   ],
   "source": [
    "y_ins"
   ]
  },
  {
   "cell_type": "code",
   "execution_count": 91,
   "id": "14a9d4af",
   "metadata": {},
   "outputs": [
    {
     "data": {
      "text/plain": [
       "[998, 1000.0, 1001.0, 999.0, 1001.0, 997.0, 999.0, 1000.0, 998.0]"
      ]
     },
     "execution_count": 91,
     "metadata": {},
     "output_type": "execute_result"
    }
   ],
   "source": [
    "x_coords"
   ]
  },
  {
   "cell_type": "code",
   "execution_count": 92,
   "id": "90549902",
   "metadata": {},
   "outputs": [
    {
     "data": {
      "text/plain": [
       "[501.0, 500.0, 499.5, 500.5, 499.5, 501.5, 500.5, 500.0, 501.0]"
      ]
     },
     "execution_count": 92,
     "metadata": {},
     "output_type": "execute_result"
    }
   ],
   "source": [
    "y_coords"
   ]
  },
  {
   "cell_type": "markdown",
   "id": "f19098a8",
   "metadata": {},
   "source": [
    "# IL and fee models"
   ]
  },
  {
   "cell_type": "code",
   "execution_count": 3,
   "id": "1e5ccb58",
   "metadata": {},
   "outputs": [
    {
     "data": {
      "text/html": [
       "<div>\n",
       "<style scoped>\n",
       "    .dataframe tbody tr th:only-of-type {\n",
       "        vertical-align: middle;\n",
       "    }\n",
       "\n",
       "    .dataframe tbody tr th {\n",
       "        vertical-align: top;\n",
       "    }\n",
       "\n",
       "    .dataframe thead th {\n",
       "        text-align: right;\n",
       "    }\n",
       "</style>\n",
       "<table border=\"1\" class=\"dataframe\">\n",
       "  <thead>\n",
       "    <tr style=\"text-align: right;\">\n",
       "      <th></th>\n",
       "      <th>Unnamed: 0</th>\n",
       "      <th>id</th>\n",
       "      <th>timestamp</th>\n",
       "      <th>origin</th>\n",
       "      <th>amount0</th>\n",
       "      <th>amount1</th>\n",
       "      <th>amountUSD</th>\n",
       "      <th>tick</th>\n",
       "      <th>sqrtPriceX96</th>\n",
       "      <th>logIndex</th>\n",
       "      <th>transaction.blockNumber</th>\n",
       "      <th>transaction.gasUsed</th>\n",
       "      <th>transaction.gasPrice</th>\n",
       "      <th>price</th>\n",
       "    </tr>\n",
       "  </thead>\n",
       "  <tbody>\n",
       "    <tr>\n",
       "      <th>0</th>\n",
       "      <td>0</td>\n",
       "      <td>0xc8694acfe92e60f0544cc284f3bce58838c61fdedb60...</td>\n",
       "      <td>1625692566</td>\n",
       "      <td>0x422162745b12b8c58d19e348d7c8c134bbedf886</td>\n",
       "      <td>-131939.211505</td>\n",
       "      <td>55.994080</td>\n",
       "      <td>132148.011927</td>\n",
       "      <td>198643</td>\n",
       "      <td>1629840339710206611127696549354436</td>\n",
       "      <td>48</td>\n",
       "      <td>12782658</td>\n",
       "      <td>300000</td>\n",
       "      <td>35530570548</td>\n",
       "      <td>2360.035431</td>\n",
       "    </tr>\n",
       "    <tr>\n",
       "      <th>1</th>\n",
       "      <td>1</td>\n",
       "      <td>0x83220039885b8aa0354677f567219b85d21feb739d5b...</td>\n",
       "      <td>1625692588</td>\n",
       "      <td>0x422162745b12b8c58d19e348d7c8c134bbedf886</td>\n",
       "      <td>-133706.922423</td>\n",
       "      <td>56.762064</td>\n",
       "      <td>133918.661798</td>\n",
       "      <td>198646</td>\n",
       "      <td>1630097389472588771364993582965591</td>\n",
       "      <td>245</td>\n",
       "      <td>12782662</td>\n",
       "      <td>300000</td>\n",
       "      <td>34247960810</td>\n",
       "      <td>2359.298652</td>\n",
       "    </tr>\n",
       "    <tr>\n",
       "      <th>2</th>\n",
       "      <td>2</td>\n",
       "      <td>0x7d9bcf10b6fafe79f54db4b5bcc9cd60c814630890f1...</td>\n",
       "      <td>1625692639</td>\n",
       "      <td>0x422162745b12b8c58d19e348d7c8c134bbedf886</td>\n",
       "      <td>-418450.004264</td>\n",
       "      <td>177.911121</td>\n",
       "      <td>419182.984007</td>\n",
       "      <td>198664</td>\n",
       "      <td>1631598611109045408663688169544926</td>\n",
       "      <td>69</td>\n",
       "      <td>12782663</td>\n",
       "      <td>300000</td>\n",
       "      <td>471649776372</td>\n",
       "      <td>2356.137057</td>\n",
       "    </tr>\n",
       "    <tr>\n",
       "      <th>3</th>\n",
       "      <td>3</td>\n",
       "      <td>0xe7e104cc2686484ba0a28a9e91b4cfe5029ea7a601c8...</td>\n",
       "      <td>1625692639</td>\n",
       "      <td>0xd248711655893f8bf0ccf44eeee4702cda9e7ba9</td>\n",
       "      <td>-363763.472613</td>\n",
       "      <td>154.517706</td>\n",
       "      <td>364389.069762</td>\n",
       "      <td>198654</td>\n",
       "      <td>1630797130401416290471491555444043</td>\n",
       "      <td>61</td>\n",
       "      <td>12782663</td>\n",
       "      <td>1200000</td>\n",
       "      <td>529776695835</td>\n",
       "      <td>2358.235048</td>\n",
       "    </tr>\n",
       "    <tr>\n",
       "      <th>4</th>\n",
       "      <td>4</td>\n",
       "      <td>0x31ccccf7f01bcd14895466c7059412d6793ac961b43b...</td>\n",
       "      <td>1625692854</td>\n",
       "      <td>0x4c5c2dd90634ec51d2a912314ccf8ab7046291c9</td>\n",
       "      <td>-622222.100000</td>\n",
       "      <td>264.870426</td>\n",
       "      <td>623385.166324</td>\n",
       "      <td>198679</td>\n",
       "      <td>1632785130698026974471086484650310</td>\n",
       "      <td>13</td>\n",
       "      <td>12782682</td>\n",
       "      <td>413230</td>\n",
       "      <td>0</td>\n",
       "      <td>2353.547641</td>\n",
       "    </tr>\n",
       "  </tbody>\n",
       "</table>\n",
       "</div>"
      ],
      "text/plain": [
       "   Unnamed: 0                                                 id   timestamp  \\\n",
       "0           0  0xc8694acfe92e60f0544cc284f3bce58838c61fdedb60...  1625692566   \n",
       "1           1  0x83220039885b8aa0354677f567219b85d21feb739d5b...  1625692588   \n",
       "2           2  0x7d9bcf10b6fafe79f54db4b5bcc9cd60c814630890f1...  1625692639   \n",
       "3           3  0xe7e104cc2686484ba0a28a9e91b4cfe5029ea7a601c8...  1625692639   \n",
       "4           4  0x31ccccf7f01bcd14895466c7059412d6793ac961b43b...  1625692854   \n",
       "\n",
       "                                       origin        amount0     amount1  \\\n",
       "0  0x422162745b12b8c58d19e348d7c8c134bbedf886 -131939.211505   55.994080   \n",
       "1  0x422162745b12b8c58d19e348d7c8c134bbedf886 -133706.922423   56.762064   \n",
       "2  0x422162745b12b8c58d19e348d7c8c134bbedf886 -418450.004264  177.911121   \n",
       "3  0xd248711655893f8bf0ccf44eeee4702cda9e7ba9 -363763.472613  154.517706   \n",
       "4  0x4c5c2dd90634ec51d2a912314ccf8ab7046291c9 -622222.100000  264.870426   \n",
       "\n",
       "       amountUSD    tick                        sqrtPriceX96  logIndex  \\\n",
       "0  132148.011927  198643  1629840339710206611127696549354436        48   \n",
       "1  133918.661798  198646  1630097389472588771364993582965591       245   \n",
       "2  419182.984007  198664  1631598611109045408663688169544926        69   \n",
       "3  364389.069762  198654  1630797130401416290471491555444043        61   \n",
       "4  623385.166324  198679  1632785130698026974471086484650310        13   \n",
       "\n",
       "   transaction.blockNumber  transaction.gasUsed  transaction.gasPrice  \\\n",
       "0                 12782658               300000           35530570548   \n",
       "1                 12782662               300000           34247960810   \n",
       "2                 12782663               300000          471649776372   \n",
       "3                 12782663              1200000          529776695835   \n",
       "4                 12782682               413230                     0   \n",
       "\n",
       "         price  \n",
       "0  2360.035431  \n",
       "1  2359.298652  \n",
       "2  2356.137057  \n",
       "3  2358.235048  \n",
       "4  2353.547641  "
      ]
     },
     "execution_count": 3,
     "metadata": {},
     "output_type": "execute_result"
    }
   ],
   "source": [
    "df = pd.read_csv('/Users/ayanaaspembitova/work/Euler/SwapData/data/ETH-USDC500days.csv')\n",
    "df['price'] = abs(df['amountUSD']/df['amount1'])\n",
    "df.head()"
   ]
  },
  {
   "cell_type": "code",
   "execution_count": null,
   "id": "f61b38b0",
   "metadata": {},
   "outputs": [],
   "source": []
  },
  {
   "cell_type": "code",
   "execution_count": 200,
   "id": "58abb4bb",
   "metadata": {},
   "outputs": [
    {
     "data": {
      "text/plain": [
       "1.0142857142857142"
      ]
     },
     "execution_count": 200,
     "metadata": {},
     "output_type": "execute_result"
    }
   ],
   "source": [
    "(100/98)*0.7 + 0.3"
   ]
  },
  {
   "cell_type": "code",
   "execution_count": 4,
   "id": "cdcead33",
   "metadata": {},
   "outputs": [],
   "source": [
    "df['ma'] = df['price'].rolling(window=50).mean()"
   ]
  },
  {
   "cell_type": "code",
   "execution_count": 122,
   "id": "d80d9cdd",
   "metadata": {},
   "outputs": [
    {
     "data": {
      "image/png": "[encoded data removed]",
      "text/plain": [
       "<Figure size 432x288 with 1 Axes>"
      ]
     },
     "metadata": {
      "needs_background": "light"
     },
     "output_type": "display_data"
    }
   ],
   "source": [
    "plt.plot(df['price']);\n",
    "plt.plot(df['ma'], alpha = 0.8);\n"
   ]
  },
  {
   "cell_type": "code",
   "execution_count": null,
   "id": "af1de630",
   "metadata": {},
   "outputs": [],
   "source": []
  },
  {
   "cell_type": "code",
   "execution_count": 5,
   "id": "6082cc10",
   "metadata": {},
   "outputs": [],
   "source": [
    "test_set = df.iloc[45010:45300]"
   ]
  },
  {
   "cell_type": "code",
   "execution_count": 6,
   "id": "14d71d73",
   "metadata": {},
   "outputs": [],
   "source": [
    "amounts_x = test_set['amount0']\n",
    "amounts_y = test_set['amount1']\n",
    "y_prices = test_set['ma']\n",
    "y_price0 = test_set['ma'].iloc[0]\n",
    "y_ps = []\n",
    "y_total = 0\n",
    "y_totals = []\n",
    "x0 = 100000000\n",
    "x_coord = x0\n",
    "x_coords = []\n",
    "for amount_x, amount_y, y_price in zip(amounts_x, amounts_y, y_prices):\n",
    "    \n",
    "    if amount_x < 0:\n",
    "        y_in = abs(amount_y)\n",
    "        y_total += y_in\n",
    "        x_coord = x_coord - abs(amount_x) \n",
    "    else:\n",
    "        if abs(amount_y) < y_total:\n",
    "            y_total -= abs(amount_y)\n",
    "            x_coord += amount_x\n",
    "        else: \n",
    "            y_total = 0\n",
    "            x_coord = x_coord + (abs(amount_y) - y_total) * 1/y_price\n",
    "    \n",
    "    x_coords.append(x_coord) \n",
    "    y_totals.append(y_total)\n",
    "    y_ps.append(y_price)"
   ]
  },
  {
   "cell_type": "code",
   "execution_count": 174,
   "id": "34f9f3f0",
   "metadata": {},
   "outputs": [],
   "source": [
    "amounts_x = test_set['amount0']\n",
    "amounts_y = test_set['amount1']\n",
    "y_prices = test_set['ma']\n",
    "y_price0 = test_set['ma'].iloc[0]\n",
    "y_ps = []\n",
    "y_total = 0\n",
    "y_totals = []\n",
    "x0 = 100000000\n",
    "x_coord = x0\n",
    "x_coords = []\n",
    "fees_es2 = []\n",
    "for amount_x, amount_y, y_price in zip(amounts_x, amounts_y, y_prices):\n",
    "    \n",
    "    if amount_x < 0:\n",
    "        y_in = abs(amount_y)\n",
    "        y_total += y_in\n",
    "        \n",
    "        ret = (y_price-y_price0)/y_price0\n",
    "        if ret <0:\n",
    "            fee = amount_x *2*ret\n",
    "        else:\n",
    "            fee = 0\n",
    "        x_coord = x_coord - abs(amount_x) + fee\n",
    "    else:\n",
    "        if abs(amount_y) < y_total:\n",
    "            y_total -= abs(amount_y)\n",
    "            x_coord += amount_x\n",
    "        else: \n",
    "            y_total = 0\n",
    "            x_coord = x_coord + (abs(amount_y) - y_total) * 1/y_price\n",
    "            \n",
    "        fee = 0\n",
    "    fees_es2.append(fee)\n",
    "    \n",
    "    y_price0 = y_price\n",
    "    x_coords.append(x_coord) \n",
    "    y_totals.append(y_total)\n",
    "    y_ps.append(y_price)"
   ]
  },
  {
   "cell_type": "code",
   "execution_count": 179,
   "id": "74305c54",
   "metadata": {},
   "outputs": [],
   "source": [
    "amounts_x = test_set['amount0']\n",
    "amounts_y = test_set['amount1']\n",
    "y_prices = test_set['ma']\n",
    "y_price0 = test_set['ma'].iloc[0]\n",
    "y_ps = []\n",
    "y_total = 0\n",
    "y_totals = []\n",
    "x0 = 100000000\n",
    "x_coord = x0\n",
    "x_coords = []\n",
    "fees_es1 = []\n",
    "for amount_x, amount_y, y_price in zip(amounts_x, amounts_y, y_prices):\n",
    "    \n",
    "    if amount_x < 0:\n",
    "        y_in = abs(amount_y)\n",
    "        y_total += y_in\n",
    "        \n",
    "        ret = (y_price-y_price0)/y_price0\n",
    "        fee = amount_x *2*ret\n",
    "        \n",
    "    else:\n",
    "        if abs(amount_y) < y_total:\n",
    "            y_total -= abs(amount_y)\n",
    "            x_coord += amount_x\n",
    "        else: \n",
    "            y_total = 0\n",
    "            x_coord = x_coord + (abs(amount_y) - y_total) * 1/y_price\n",
    "        fee = 0\n",
    "            \n",
    "    fees_es1.append(fee)\n",
    "    y_price0 = y_price\n",
    "    x_coords.append(x_coord) \n",
    "    y_totals.append(y_total)\n",
    "    y_ps.append(y_price)"
   ]
  },
  {
   "cell_type": "code",
   "execution_count": 7,
   "id": "181df03f",
   "metadata": {},
   "outputs": [],
   "source": [
    "il_x = pd.DataFrame()\n",
    "il_x['x_coords'] = x_coords\n",
    "il_x['price'] = y_ps\n",
    "il_x['y_total'] = y_totals\n",
    "il_x['value_x'] = il_x['x_coords'] + il_x['y_total']*il_x['price']\n",
    "#il_x = il_x.iloc[1:]\n",
    "il_x['il'] = (il_x['value_x'] - x0)/x0\n",
    "il_x['return'] = (il_x['price'].shift(1) - il_x['price'].iloc[0]) / il_x['price'].iloc[0]"
   ]
  },
  {
   "cell_type": "code",
   "execution_count": 8,
   "id": "5a091656",
   "metadata": {},
   "outputs": [],
   "source": [
    "il_x = il_x.iloc[1:]"
   ]
  },
  {
   "cell_type": "code",
   "execution_count": 9,
   "id": "b47dd00a",
   "metadata": {},
   "outputs": [
    {
     "data": {
      "text/plain": [
       "<Figure size 600x500 with 0 Axes>"
      ]
     },
     "metadata": {},
     "output_type": "display_data"
    },
    {
     "data": {
      "image/png": "[encoded data removed]",
      "text/plain": [
       "<Figure size 432x288 with 2 Axes>"
      ]
     },
     "metadata": {
      "needs_background": "light"
     },
     "output_type": "display_data"
    }
   ],
   "source": [
    "plt.figure(figsize = (6,5), dpi =100)\n",
    "fig, ax1 = plt.subplots()\n",
    "\n",
    "ax1 = plt.subplot()\n",
    "ax1.plot(il_x['il'], color=\"blue\")              \n",
    "ax1.set_ylabel('ES IL, no fees', color=\"blue\")       \n",
    "ax1.tick_params(axis='y', colors=\"blue\")       \n",
    "\n",
    "ax2 = ax1.twinx()\n",
    "ax2.plot(il_x['return'], color=\"red\")      \n",
    "ax2.set_ylabel('return', color=\"red\")       \n",
    "ax2.tick_params(axis='y', colors=\"red\")\n",
    "plt.show();"
   ]
  },
  {
   "cell_type": "code",
   "execution_count": 152,
   "id": "ba01f22b",
   "metadata": {},
   "outputs": [
    {
     "data": {
      "text/plain": [
       "<Figure size 600x500 with 0 Axes>"
      ]
     },
     "metadata": {},
     "output_type": "display_data"
    },
    {
     "data": {
      "image/png": "[encoded data removed]",
      "text/plain": [
       "<Figure size 432x288 with 2 Axes>"
      ]
     },
     "metadata": {
      "needs_background": "light"
     },
     "output_type": "display_data"
    }
   ],
   "source": [
    "plt.figure(figsize = (6,5), dpi =100)\n",
    "fig, ax1 = plt.subplots()\n",
    "\n",
    "ax1 = plt.subplot()\n",
    "ax1.plot(il_x['il'], color=\"blue\")              \n",
    "ax1.set_ylabel('ES IL w fees', color=\"blue\")       \n",
    "ax1.tick_params(axis='y', colors=\"blue\")       \n",
    "\n",
    "ax2 = ax1.twinx()\n",
    "ax2.plot(il_x['return'], color=\"red\")      \n",
    "ax2.set_ylabel('return', color=\"red\")       \n",
    "ax2.tick_params(axis='y', colors=\"red\")\n",
    "plt.show();"
   ]
  },
  {
   "cell_type": "code",
   "execution_count": 922,
   "id": "c804abfb",
   "metadata": {},
   "outputs": [
    {
     "data": {
      "text/plain": [
       "<Figure size 600x500 with 0 Axes>"
      ]
     },
     "metadata": {},
     "output_type": "display_data"
    },
    {
     "data": {
      "image/png": "[encoded data removed]",
      "text/plain": [
       "<Figure size 432x288 with 2 Axes>"
      ]
     },
     "metadata": {
      "needs_background": "light"
     },
     "output_type": "display_data"
    }
   ],
   "source": [
    "plt.figure(figsize = (6,5), dpi =100)\n",
    "fig, ax1 = plt.subplots()\n",
    "\n",
    "ax1 = plt.subplot()\n",
    "ax1.plot(ils, color=\"blue\")              \n",
    "ax1.set_ylabel('CPAMM IL', color=\"blue\")       \n",
    "ax1.tick_params(axis='y', colors=\"blue\")       \n",
    "\n",
    "ax2 = ax1.twinx()\n",
    "ax2.plot(il_x['return'], color=\"red\")      \n",
    "ax2.set_ylabel('return', color=\"red\")       \n",
    "ax2.tick_params(axis='y', colors=\"red\")\n",
    "#plt.savefig('/Users/ayanaaspembitova/work/Euler/EulerSwap/cpamm_il.png')\n",
    "plt.show();"
   ]
  },
  {
   "cell_type": "code",
   "execution_count": 158,
   "id": "d719f0bf",
   "metadata": {},
   "outputs": [],
   "source": [
    "#Fees paid by traders in CPAMM: \n",
    "fees = []\n",
    "amounts = test_set['amountUSD']\n",
    "for a in amounts:\n",
    "    fee = a*0.003\n",
    "    fees.append(fee)"
   ]
  },
  {
   "cell_type": "code",
   "execution_count": 191,
   "id": "c72cda1d",
   "metadata": {},
   "outputs": [
    {
     "data": {
      "image/png": "[encoded data removed]",
      "text/plain": [
       "<Figure size 432x288 with 1 Axes>"
      ]
     },
     "metadata": {
      "needs_background": "light"
     },
     "output_type": "display_data"
    }
   ],
   "source": [
    "plt.plot(fees);\n",
    "plt.plot(fees_es1);\n",
    "plt.ylabel('USD')\n",
    "plt.title('fees ES vs CPAMM', size=12);"
   ]
  },
  {
   "cell_type": "code",
   "execution_count": null,
   "id": "9dc83a99",
   "metadata": {},
   "outputs": [],
   "source": []
  },
  {
   "cell_type": "code",
   "execution_count": 190,
   "id": "907926e8",
   "metadata": {},
   "outputs": [
    {
     "name": "stdout",
     "output_type": "stream",
     "text": [
      "54108.54523799728\n",
      "308444.00912225054\n"
     ]
    }
   ],
   "source": [
    "print(sum(fees_es1))\n",
    "print(sum(fees))"
   ]
  },
  {
   "cell_type": "code",
   "execution_count": null,
   "id": "77aa9982",
   "metadata": {},
   "outputs": [],
   "source": []
  },
  {
   "cell_type": "code",
   "execution_count": 165,
   "id": "c1403f95",
   "metadata": {},
   "outputs": [
    {
     "data": {
      "image/png": "[encoded data removed]",
      "text/plain": [
       "<Figure size 432x288 with 1 Axes>"
      ]
     },
     "metadata": {
      "needs_background": "light"
     },
     "output_type": "display_data"
    }
   ],
   "source": [
    "plt.plot(amounts_x);"
   ]
  },
  {
   "cell_type": "code",
   "execution_count": null,
   "id": "e8f63931",
   "metadata": {},
   "outputs": [],
   "source": []
  },
  {
   "cell_type": "code",
   "execution_count": 864,
   "id": "1fe43e62",
   "metadata": {},
   "outputs": [],
   "source": [
    "test_set['date'] = pd.to_datetime(test_set['timestamp'],unit='s')"
   ]
  },
  {
   "cell_type": "code",
   "execution_count": 921,
   "id": "ad5c2550",
   "metadata": {},
   "outputs": [],
   "source": [
    "# IL in UniV2:\n",
    "il_df = pd.DataFrame()\n",
    "prices_y = test_set['ma']\n",
    "#prices_y = #btc['btc']\n",
    "price_y = prices_y[45010]\n",
    "price_x = 1 #prices_y[1]\n",
    "xt = 100000\n",
    "yt = xt*(price_x/price_y)\n",
    "k = xt*yt\n",
    "val = xt*price_x + yt *price_y\n",
    "\n",
    "ils = []\n",
    "\n",
    "for price_y in prices_y:\n",
    "    val = xt*price_x + yt *price_y\n",
    "    rt = price_x/price_y\n",
    "    x_t = np.sqrt(k/rt)\n",
    "    y_t = np.sqrt(k*rt)\n",
    "        \n",
    "    il = ((x_t*price_x + y_t*price_y) - val)/val\n",
    "    ils.append(il)"
   ]
  },
  {
   "cell_type": "code",
   "execution_count": 691,
   "id": "ecd0665b",
   "metadata": {},
   "outputs": [
    {
     "data": {
      "image/png": "[encoded data removed]",
      "text/plain": [
       "<Figure size 432x288 with 1 Axes>"
      ]
     },
     "metadata": {
      "needs_background": "light"
     },
     "output_type": "display_data"
    }
   ],
   "source": [
    "plt.hist(ils);"
   ]
  },
  {
   "cell_type": "code",
   "execution_count": 692,
   "id": "da3b357e",
   "metadata": {},
   "outputs": [
    {
     "data": {
      "image/png": "[encoded data removed]",
      "text/plain": [
       "<Figure size 432x288 with 1 Axes>"
      ]
     },
     "metadata": {
      "needs_background": "light"
     },
     "output_type": "display_data"
    }
   ],
   "source": [
    "plt.plot(ils);"
   ]
  },
  {
   "cell_type": "code",
   "execution_count": 915,
   "id": "c9ffda75",
   "metadata": {},
   "outputs": [],
   "source": [
    "#IL for UniV3 \n",
    "\n",
    "prices_y = test_set['ma']\n",
    "#prices_y = btc['btc']\n",
    "#prices = prices_x/prices_y\n",
    "pa = 3100\n",
    "pb = 3300\n",
    "xt = 500\n",
    "price_x = 1\n",
    "price_y = prices_y[45010]\n",
    "yt = xt*(price_x/price_y)\n",
    "L = np.sqrt(xt*yt)\n",
    "ils_u3 = []\n",
    "\n",
    "for price_y in prices_y: \n",
    "    val = xt*price_x + yt *price_y\n",
    "    x_t = (L/np.sqrt(pa)) - (L/np.sqrt(pb))\n",
    "    y_t = L *(np.sqrt(pb) - np.sqrt(pa))\n",
    "    if price_x<=pa:\n",
    "        il = ((x_t *price_x) - val)/val\n",
    "    elif price_x>=pb:\n",
    "        il = ((y_t *price_y) - val)/val\n",
    "    else: \n",
    "        il = ((x_t *price_x + y_t*price_y) - val)/val\n",
    "    ils_u3.append(il) \n",
    "        "
   ]
  },
  {
   "cell_type": "code",
   "execution_count": null,
   "id": "8bec4a2c",
   "metadata": {},
   "outputs": [],
   "source": []
  },
  {
   "cell_type": "code",
   "execution_count": null,
   "id": "05ae5cda",
   "metadata": {},
   "outputs": [],
   "source": []
  },
  {
   "cell_type": "markdown",
   "id": "3b261fe1",
   "metadata": {},
   "source": [
    "Impermanent Loss for $x$ LPs, all swaps are on $f(x)$ side: \n",
    "\n",
    "$IL = \\frac{x_{t0} - x_t}{x_{t0}}$\n",
    "\n",
    "$x_t = x_{t0} - \\Delta x + \\Delta y \\frac{p_y}{p_x}$"
   ]
  },
  {
   "cell_type": "code",
   "execution_count": 693,
   "id": "6d7d00cd",
   "metadata": {},
   "outputs": [],
   "source": [
    "#IL in ES:\n",
    "x_price = 1\n",
    "y_price = test_set['ma'].iloc[0]\n",
    "x_centre = 10000000\n",
    "y_centre = x_centre/y_price\n",
    "x_coord = x_centre\n",
    "y_coord = y_centre\n",
    "c_x = c_y = 1\n",
    "x_ins = [0]\n",
    "x_outs = []\n",
    "y_ins = [0]\n",
    "y_outs = []\n",
    "amount_xs = test_set['amount0']\n",
    "y_prices = test_set['ma']\n",
    "x_price = 1\n",
    "x_coords_x = [x_coord]\n",
    "y_coords_x = [y_coord]\n",
    "y_price_x = [y_price]\n",
    "y_price_xy = [y_price]\n",
    "eff_prices = []\n",
    "oracle_prices = []\n",
    "\n",
    "for y_price, amount_x in zip(y_prices, amount_xs): \n",
    "    if amount_x <0:\n",
    "        y_coord = x_centre/y_price\n",
    "        x_out_X_side, y_in_X_side, x_c0, y_c0 = swapXOutXSide(amount_x, c_x, x_centre, x_centre, y_coord, x_price, y_price)\n",
    "        x_outs.append(x_out_X_side)\n",
    "        y_ins.append(y_in_X_side)\n",
    "        x_c = x_coords_x[-1] - amount_x\n",
    "        x_coords_x.append(x_c)\n",
    "        y_c = y_coords[-1] + y_in_X_side\n",
    "        y_coords.append(y_c)\n",
    "        y_price_x.append(y_price)\n",
    "        eff_price = x_out_X_side/y_in_X_side\n",
    "        \n",
    "    else: \n",
    "        x_coord = x_coord + amount_x\n",
    "        y_coord = x_centre/y_price\n",
    "        x_in_X_side, y_out_X_side, x_c, y_c = swapXInXSide(amount_x, c_x, x_centre, x_centre, y_coord, x_price, y_price)\n",
    "        x_ins.append(x_in_X_side)\n",
    "        y_outs.append(y_out_X_side)\n",
    "        x_c = x_coords[-1] + x_in_X_side\n",
    "        x_coords.append(x_c)\n",
    "        y_c = y_coords[-1] - y_out_X_side\n",
    "        y_coords_x.append(y_c)\n",
    "        y_price_xy.append(y_price)\n",
    "        eff_price = x_in_X_side/y_out_X_side\n",
    "    eff_prices.append(abs(eff_price))\n",
    "    oracle_prices.append(y_price)\n",
    "        \n"
   ]
  },
  {
   "cell_type": "code",
   "execution_count": 694,
   "id": "56956dcd",
   "metadata": {},
   "outputs": [
    {
     "data": {
      "image/png": "[encoded data removed]",
      "text/plain": [
       "<Figure size 432x288 with 1 Axes>"
      ]
     },
     "metadata": {
      "needs_background": "light"
     },
     "output_type": "display_data"
    }
   ],
   "source": [
    "plt.plot(eff_prices);\n",
    "plt.plot(oracle_prices, alpha = 0.4);"
   ]
  },
  {
   "cell_type": "code",
   "execution_count": null,
   "id": "c5b19423",
   "metadata": {},
   "outputs": [],
   "source": []
  },
  {
   "cell_type": "code",
   "execution_count": 695,
   "id": "16c4d158",
   "metadata": {},
   "outputs": [],
   "source": [
    "il_x = pd.DataFrame()\n",
    "il_x['y_in'] = y_ins\n",
    "il_x['x_coords'] = x_coords_x\n",
    "il_x['price'] = y_price_x\n",
    "il_x['y_total'] = il_x['y_in'].cumsum()\n",
    "il_x['value_x'] = il_x['x_coords'] + il_x['y_total']*il_x['price']\n",
    "il_x = il_x.iloc[1:]\n",
    "il_x['il'] = (il_x['value_x'] - x_centre)/x_centre"
   ]
  },
  {
   "cell_type": "code",
   "execution_count": null,
   "id": "11df6391",
   "metadata": {},
   "outputs": [],
   "source": []
  },
  {
   "cell_type": "code",
   "execution_count": 696,
   "id": "482ce8d8",
   "metadata": {},
   "outputs": [
    {
     "data": {
      "image/png": "[encoded data removed]",
      "text/plain": [
       "<Figure size 432x288 with 1 Axes>"
      ]
     },
     "metadata": {
      "needs_background": "light"
     },
     "output_type": "display_data"
    }
   ],
   "source": [
    "test_set['amount0'].plot();"
   ]
  },
  {
   "cell_type": "code",
   "execution_count": 697,
   "id": "70b5f83c",
   "metadata": {},
   "outputs": [],
   "source": [
    "il_x['return'] = (il_x['price'].shift(1) - il_x['price'].iloc[0]) / il_x['price'].iloc[0]"
   ]
  },
  {
   "cell_type": "code",
   "execution_count": 698,
   "id": "4cf35916",
   "metadata": {},
   "outputs": [
    {
     "data": {
      "text/plain": [
       "<Figure size 600x500 with 0 Axes>"
      ]
     },
     "metadata": {},
     "output_type": "display_data"
    },
    {
     "data": {
      "image/png": "[encoded data removed]",
      "text/plain": [
       "<Figure size 432x288 with 2 Axes>"
      ]
     },
     "metadata": {
      "needs_background": "light"
     },
     "output_type": "display_data"
    }
   ],
   "source": [
    "plt.figure(figsize = (6,5), dpi =100)\n",
    "fig, ax1 = plt.subplots()\n",
    "\n",
    "ax1 = plt.subplot()\n",
    "ax1.plot(il_x['il'], color=\"blue\")              \n",
    "ax1.set_ylabel('ES IL', color=\"blue\")       \n",
    "ax1.tick_params(axis='y', colors=\"blue\")       \n",
    "\n",
    "ax2 = ax1.twinx()\n",
    "ax2.plot(il_x['return'], color=\"red\")      \n",
    "ax2.set_ylabel('return', color=\"red\")       \n",
    "ax2.tick_params(axis='y', colors=\"red\")\n",
    "plt.show();"
   ]
  },
  {
   "cell_type": "code",
   "execution_count": null,
   "id": "090608b2",
   "metadata": {},
   "outputs": [],
   "source": []
  },
  {
   "cell_type": "code",
   "execution_count": null,
   "id": "19ad5cfd",
   "metadata": {},
   "outputs": [],
   "source": []
  },
  {
   "cell_type": "code",
   "execution_count": 671,
   "id": "16d9e582",
   "metadata": {},
   "outputs": [
    {
     "name": "stdout",
     "output_type": "stream",
     "text": [
      "-0.9812010961926736\n"
     ]
    }
   ],
   "source": [
    "print(il_x['return'].corr(il_x['il']))\n",
    "#print(il_x['return'].corr(ils))"
   ]
  },
  {
   "cell_type": "code",
   "execution_count": 699,
   "id": "ce584b3b",
   "metadata": {},
   "outputs": [
    {
     "data": {
      "text/plain": [
       "<Figure size 600x500 with 0 Axes>"
      ]
     },
     "metadata": {},
     "output_type": "display_data"
    },
    {
     "data": {
      "image/png": "[encoded data removed]",
      "text/plain": [
       "<Figure size 432x288 with 2 Axes>"
      ]
     },
     "metadata": {
      "needs_background": "light"
     },
     "output_type": "display_data"
    }
   ],
   "source": [
    "plt.figure(figsize = (6,5), dpi =100)\n",
    "fig, ax1 = plt.subplots()\n",
    "\n",
    "ax1 = plt.subplot()\n",
    "ax1.plot(ils, color=\"blue\")              \n",
    "ax1.set_ylabel('CPAMM IL', color=\"blue\")       \n",
    "ax1.tick_params(axis='y', colors=\"blue\")       \n",
    "\n",
    "ax2 = ax1.twinx()\n",
    "ax2.plot(il_x['return'], color=\"red\")      \n",
    "ax2.set_ylabel('return', color=\"red\")       \n",
    "ax2.tick_params(axis='y', colors=\"red\")\n",
    "plt.show();"
   ]
  },
  {
   "cell_type": "code",
   "execution_count": null,
   "id": "0eae30fc",
   "metadata": {},
   "outputs": [],
   "source": []
  },
  {
   "cell_type": "code",
   "execution_count": 669,
   "id": "80ef568b",
   "metadata": {},
   "outputs": [],
   "source": []
  },
  {
   "cell_type": "code",
   "execution_count": 425,
   "id": "f6fafa96",
   "metadata": {},
   "outputs": [],
   "source": [
    "pp = pd.DataFrame()\n",
    "pp['out'] = x_outs\n",
    "pp['y_in'] = y_ins\n",
    "pp['price'] = pp['out']/pp['y_in']"
   ]
  },
  {
   "cell_type": "code",
   "execution_count": 421,
   "id": "da2b715b",
   "metadata": {},
   "outputs": [],
   "source": [
    "pp = pd.DataFrame()\n",
    "pp['x_in'] = x_ins\n",
    "pp['y_out'] = y_outs\n",
    "pp['price'] = pp['x_in']/pp['y_out']"
   ]
  },
  {
   "cell_type": "code",
   "execution_count": null,
   "id": "048e2026",
   "metadata": {},
   "outputs": [],
   "source": []
  },
  {
   "cell_type": "code",
   "execution_count": 252,
   "id": "352842a0",
   "metadata": {},
   "outputs": [],
   "source": [
    "p = pp['out']/pp['y_in']"
   ]
  },
  {
   "cell_type": "code",
   "execution_count": 413,
   "id": "090607c3",
   "metadata": {},
   "outputs": [
    {
     "data": {
      "image/png": "[encoded data removed]",
      "text/plain": [
       "<Figure size 432x288 with 1 Axes>"
      ]
     },
     "metadata": {
      "needs_background": "light"
     },
     "output_type": "display_data"
    }
   ],
   "source": [
    "pp['price'].plot();"
   ]
  },
  {
   "cell_type": "code",
   "execution_count": 363,
   "id": "480514e5",
   "metadata": {},
   "outputs": [],
   "source": [
    "test_set_out = test_set[test_set['amount0']<0]"
   ]
  },
  {
   "cell_type": "code",
   "execution_count": 393,
   "id": "d7e0e963",
   "metadata": {},
   "outputs": [
    {
     "data": {
      "text/plain": [
       "(139694.746797, -519.2508191597954, 9860305.253203, 3718.037316433425)"
      ]
     },
     "execution_count": 393,
     "metadata": {},
     "output_type": "execute_result"
    }
   ],
   "source": [
    "swapXOutXSide(139694.746797, 1, 10000000, 10000000, 10000000/2360, 1, 2073)"
   ]
  },
  {
   "cell_type": "code",
   "execution_count": 364,
   "id": "9bb9ecdd",
   "metadata": {},
   "outputs": [
    {
     "data": {
      "text/html": [
       "<div>\n",
       "<style scoped>\n",
       "    .dataframe tbody tr th:only-of-type {\n",
       "        vertical-align: middle;\n",
       "    }\n",
       "\n",
       "    .dataframe tbody tr th {\n",
       "        vertical-align: top;\n",
       "    }\n",
       "\n",
       "    .dataframe thead th {\n",
       "        text-align: right;\n",
       "    }\n",
       "</style>\n",
       "<table border=\"1\" class=\"dataframe\">\n",
       "  <thead>\n",
       "    <tr style=\"text-align: right;\">\n",
       "      <th></th>\n",
       "      <th>Unnamed: 0</th>\n",
       "      <th>id</th>\n",
       "      <th>timestamp</th>\n",
       "      <th>origin</th>\n",
       "      <th>amount0</th>\n",
       "      <th>amount1</th>\n",
       "      <th>amountUSD</th>\n",
       "      <th>tick</th>\n",
       "      <th>sqrtPriceX96</th>\n",
       "      <th>logIndex</th>\n",
       "      <th>transaction.blockNumber</th>\n",
       "      <th>transaction.gasUsed</th>\n",
       "      <th>transaction.gasPrice</th>\n",
       "      <th>price</th>\n",
       "      <th>ma</th>\n",
       "      <th>date</th>\n",
       "    </tr>\n",
       "  </thead>\n",
       "  <tbody>\n",
       "    <tr>\n",
       "      <th>10012</th>\n",
       "      <td>12</td>\n",
       "      <td>0x84b128dd452d551149f158cb1fbbb07ac195cad96f97...</td>\n",
       "      <td>1627018952</td>\n",
       "      <td>0xdc9dcb1f7979ff6cbf3d11c46e210125e7f86bf0</td>\n",
       "      <td>-19257.487499</td>\n",
       "      <td>9.259300</td>\n",
       "      <td>19286.686206</td>\n",
       "      <td>199890</td>\n",
       "      <td>1734688504017566692943668022044144</td>\n",
       "      <td>18</td>\n",
       "      <td>12880808</td>\n",
       "      <td>2966445</td>\n",
       "      <td>0</td>\n",
       "      <td>2082.952939</td>\n",
       "      <td>2072.150506</td>\n",
       "      <td>2021-07-23 05:42:32</td>\n",
       "    </tr>\n",
       "    <tr>\n",
       "      <th>10013</th>\n",
       "      <td>13</td>\n",
       "      <td>0x281aca0cff2210ed1edc926e6bd1512e7bccc6193a2c...</td>\n",
       "      <td>1627018972</td>\n",
       "      <td>0xcf16bc9eaf3081822cdf51ebf29514e0d61cbdf6</td>\n",
       "      <td>-83181.644536</td>\n",
       "      <td>40.000000</td>\n",
       "      <td>83311.001201</td>\n",
       "      <td>199892</td>\n",
       "      <td>1734863517982413600230165566551513</td>\n",
       "      <td>3</td>\n",
       "      <td>12880809</td>\n",
       "      <td>1200000</td>\n",
       "      <td>1</td>\n",
       "      <td>2082.775030</td>\n",
       "      <td>2072.591505</td>\n",
       "      <td>2021-07-23 05:42:52</td>\n",
       "    </tr>\n",
       "    <tr>\n",
       "      <th>10014</th>\n",
       "      <td>14</td>\n",
       "      <td>0xd9c38bff243bf5d023b35e0540479d14122148240319...</td>\n",
       "      <td>1627018979</td>\n",
       "      <td>0x68efce9676aabf7aee3b804c32e5973303159207</td>\n",
       "      <td>-35848.901280</td>\n",
       "      <td>17.241341</td>\n",
       "      <td>35903.617980</td>\n",
       "      <td>199893</td>\n",
       "      <td>1734938934656285330520100053376765</td>\n",
       "      <td>25</td>\n",
       "      <td>12880810</td>\n",
       "      <td>1200000</td>\n",
       "      <td>29097236028</td>\n",
       "      <td>2082.414517</td>\n",
       "      <td>2073.055327</td>\n",
       "      <td>2021-07-23 05:42:59</td>\n",
       "    </tr>\n",
       "    <tr>\n",
       "      <th>10015</th>\n",
       "      <td>15</td>\n",
       "      <td>0x2f3079261bbbb2b61f3e4b101cf4055cc5273692d6a2...</td>\n",
       "      <td>1627018997</td>\n",
       "      <td>0x4e398cb73b2e81485d4d9fb5ae1a767b839e368d</td>\n",
       "      <td>-139694.746797</td>\n",
       "      <td>67.199758</td>\n",
       "      <td>139916.789000</td>\n",
       "      <td>199896</td>\n",
       "      <td>1735232878286364281595155267289719</td>\n",
       "      <td>14</td>\n",
       "      <td>12880814</td>\n",
       "      <td>1200000</td>\n",
       "      <td>30000000001</td>\n",
       "      <td>2082.102567</td>\n",
       "      <td>2073.513090</td>\n",
       "      <td>2021-07-23 05:43:17</td>\n",
       "    </tr>\n",
       "    <tr>\n",
       "      <th>10016</th>\n",
       "      <td>16</td>\n",
       "      <td>0xfe9ebd6185c27df573ada53b6d30bc89a380baf7dc73...</td>\n",
       "      <td>1627018997</td>\n",
       "      <td>0xf6b22254f5804e74c7aea9b7000a596f587d9dd0</td>\n",
       "      <td>-64842.422046</td>\n",
       "      <td>31.200000</td>\n",
       "      <td>64942.535916</td>\n",
       "      <td>199897</td>\n",
       "      <td>1735369352605710385125266756215182</td>\n",
       "      <td>41</td>\n",
       "      <td>12880814</td>\n",
       "      <td>1478101</td>\n",
       "      <td>30000000000</td>\n",
       "      <td>2081.491536</td>\n",
       "      <td>2073.828716</td>\n",
       "      <td>2021-07-23 05:43:17</td>\n",
       "    </tr>\n",
       "    <tr>\n",
       "      <th>10017</th>\n",
       "      <td>17</td>\n",
       "      <td>0x306f8a92e058cbdd7a7724f4fe4f99cf995ee0ab8d19...</td>\n",
       "      <td>1627019004</td>\n",
       "      <td>0x5a243879d1a43f48042c33bbc8051c69756f67d4</td>\n",
       "      <td>-195663.125696</td>\n",
       "      <td>94.176292</td>\n",
       "      <td>195980.796755</td>\n",
       "      <td>199902</td>\n",
       "      <td>1735781296368811006393326208229104</td>\n",
       "      <td>3</td>\n",
       "      <td>12880816</td>\n",
       "      <td>1200000</td>\n",
       "      <td>0</td>\n",
       "      <td>2080.999280</td>\n",
       "      <td>2074.242812</td>\n",
       "      <td>2021-07-23 05:43:24</td>\n",
       "    </tr>\n",
       "    <tr>\n",
       "      <th>10018</th>\n",
       "      <td>18</td>\n",
       "      <td>0xdf00eef873da423f241a258ffd79c9a4dcb40602d07c...</td>\n",
       "      <td>1627019023</td>\n",
       "      <td>0x17f32caca965ffc80996dfedb5515bb958140edf</td>\n",
       "      <td>-50000.646956</td>\n",
       "      <td>24.073412</td>\n",
       "      <td>50077.394818</td>\n",
       "      <td>199903</td>\n",
       "      <td>1735886597732467470260164080521212</td>\n",
       "      <td>176</td>\n",
       "      <td>12880818</td>\n",
       "      <td>1200000</td>\n",
       "      <td>20000000001</td>\n",
       "      <td>2080.195129</td>\n",
       "      <td>2074.653488</td>\n",
       "      <td>2021-07-23 05:43:43</td>\n",
       "    </tr>\n",
       "    <tr>\n",
       "      <th>10019</th>\n",
       "      <td>19</td>\n",
       "      <td>0xbad96e290a86a940cca7d5d9ae3edd0095d812f0b0c9...</td>\n",
       "      <td>1627019036</td>\n",
       "      <td>0x2b43667071de0df373436998bef3816507eab5e9</td>\n",
       "      <td>-469.202698</td>\n",
       "      <td>0.225936</td>\n",
       "      <td>469.908754</td>\n",
       "      <td>199904</td>\n",
       "      <td>1735961115192999655841972166846599</td>\n",
       "      <td>71</td>\n",
       "      <td>12880819</td>\n",
       "      <td>266828</td>\n",
       "      <td>20700000000</td>\n",
       "      <td>2079.828963</td>\n",
       "      <td>2075.069809</td>\n",
       "      <td>2021-07-23 05:43:56</td>\n",
       "    </tr>\n",
       "    <tr>\n",
       "      <th>10020</th>\n",
       "      <td>20</td>\n",
       "      <td>0xfeb0fce128d4f84958e88355912a8fce86d2bed4ea32...</td>\n",
       "      <td>1627019036</td>\n",
       "      <td>0x68efce9676aabf7aee3b804c32e5973303159207</td>\n",
       "      <td>-34910.541293</td>\n",
       "      <td>16.809831</td>\n",
       "      <td>34963.806275</td>\n",
       "      <td>199904</td>\n",
       "      <td>1735960126907878644885463207800060</td>\n",
       "      <td>67</td>\n",
       "      <td>12880819</td>\n",
       "      <td>1200000</td>\n",
       "      <td>20700000001</td>\n",
       "      <td>2079.961770</td>\n",
       "      <td>2075.499175</td>\n",
       "      <td>2021-07-23 05:43:56</td>\n",
       "    </tr>\n",
       "    <tr>\n",
       "      <th>10021</th>\n",
       "      <td>21</td>\n",
       "      <td>0x4970b56a5786c2642559704d172c880598475b995d7c...</td>\n",
       "      <td>1627019045</td>\n",
       "      <td>0x4e398cb73b2e81485d4d9fb5ae1a767b839e368d</td>\n",
       "      <td>-171679.146543</td>\n",
       "      <td>82.686323</td>\n",
       "      <td>171955.378491</td>\n",
       "      <td>199908</td>\n",
       "      <td>1736322799798207396913885623919958</td>\n",
       "      <td>121</td>\n",
       "      <td>12880820</td>\n",
       "      <td>1200000</td>\n",
       "      <td>33750300001</td>\n",
       "      <td>2079.610893</td>\n",
       "      <td>2075.925611</td>\n",
       "      <td>2021-07-23 05:44:05</td>\n",
       "    </tr>\n",
       "    <tr>\n",
       "      <th>10022</th>\n",
       "      <td>22</td>\n",
       "      <td>0x678d3fd9b088ded12bdfbf65bb72eb9965d94f0a2cb3...</td>\n",
       "      <td>1627019045</td>\n",
       "      <td>0xf6b22254f5804e74c7aea9b7000a596f587d9dd0</td>\n",
       "      <td>-103778.811646</td>\n",
       "      <td>50.000000</td>\n",
       "      <td>103941.503979</td>\n",
       "      <td>199911</td>\n",
       "      <td>1736541508643313332058295061300508</td>\n",
       "      <td>152</td>\n",
       "      <td>12880820</td>\n",
       "      <td>1154038</td>\n",
       "      <td>30000000000</td>\n",
       "      <td>2078.830080</td>\n",
       "      <td>2076.352942</td>\n",
       "      <td>2021-07-23 05:44:05</td>\n",
       "    </tr>\n",
       "    <tr>\n",
       "      <th>10023</th>\n",
       "      <td>23</td>\n",
       "      <td>0x3a4ecdf6b76652dfc42927974e4753019d2313519a98...</td>\n",
       "      <td>1627019061</td>\n",
       "      <td>0xfb9d2eb56e88607ee2a77797e35b4ebed934b791</td>\n",
       "      <td>-86525.640136</td>\n",
       "      <td>41.701036</td>\n",
       "      <td>86660.376957</td>\n",
       "      <td>199914</td>\n",
       "      <td>1736804687857863081838037788517135</td>\n",
       "      <td>184</td>\n",
       "      <td>12880821</td>\n",
       "      <td>311654</td>\n",
       "      <td>22000000000</td>\n",
       "      <td>2078.134859</td>\n",
       "      <td>2076.788150</td>\n",
       "      <td>2021-07-23 05:44:21</td>\n",
       "    </tr>\n",
       "    <tr>\n",
       "      <th>10024</th>\n",
       "      <td>24</td>\n",
       "      <td>0xf5b87768e8388d07c99fec642cae2c160a3a7c7fb90b...</td>\n",
       "      <td>1627019061</td>\n",
       "      <td>0x68efce9676aabf7aee3b804c32e5973303159207</td>\n",
       "      <td>-38320.010746</td>\n",
       "      <td>18.465532</td>\n",
       "      <td>38378.557590</td>\n",
       "      <td>199912</td>\n",
       "      <td>1736622280148603272988117635096978</td>\n",
       "      <td>151</td>\n",
       "      <td>12880821</td>\n",
       "      <td>1200000</td>\n",
       "      <td>22000000001</td>\n",
       "      <td>2078.388901</td>\n",
       "      <td>2077.109225</td>\n",
       "      <td>2021-07-23 05:44:21</td>\n",
       "    </tr>\n",
       "    <tr>\n",
       "      <th>10025</th>\n",
       "      <td>25</td>\n",
       "      <td>0x1081d9ccb3b1133cf6a01720a3149dddf0d70d95b66d...</td>\n",
       "      <td>1627019080</td>\n",
       "      <td>0x278fadbc671d02ea114bf9b6e9e9e4269ecca1d6</td>\n",
       "      <td>-207.261071</td>\n",
       "      <td>0.099900</td>\n",
       "      <td>207.572925</td>\n",
       "      <td>199914</td>\n",
       "      <td>1736805124838135603496456318573021</td>\n",
       "      <td>232</td>\n",
       "      <td>12880822</td>\n",
       "      <td>291147</td>\n",
       "      <td>18700000000</td>\n",
       "      <td>2077.807053</td>\n",
       "      <td>2077.412927</td>\n",
       "      <td>2021-07-23 05:44:40</td>\n",
       "    </tr>\n",
       "    <tr>\n",
       "      <th>10026</th>\n",
       "      <td>26</td>\n",
       "      <td>0x8d95b223b301e724e559c7bfa1e8f50ebd14b47a1423...</td>\n",
       "      <td>1627019086</td>\n",
       "      <td>0x426a04b46e1052712b021213a63fe40e5376f8cf</td>\n",
       "      <td>-9900.730715</td>\n",
       "      <td>4.772219</td>\n",
       "      <td>9915.686176</td>\n",
       "      <td>199914</td>\n",
       "      <td>1736825999366374455764560416512143</td>\n",
       "      <td>148</td>\n",
       "      <td>12880823</td>\n",
       "      <td>444415</td>\n",
       "      <td>22000000000</td>\n",
       "      <td>2077.793804</td>\n",
       "      <td>2077.698563</td>\n",
       "      <td>2021-07-23 05:44:46</td>\n",
       "    </tr>\n",
       "    <tr>\n",
       "      <th>10027</th>\n",
       "      <td>27</td>\n",
       "      <td>0x2b9a42285e8bb6623c91656c26aca93075a68de0bafe...</td>\n",
       "      <td>1627019133</td>\n",
       "      <td>0xd248711655893f8bf0ccf44eeee4702cda9e7ba9</td>\n",
       "      <td>-89429.477341</td>\n",
       "      <td>43.110806</td>\n",
       "      <td>89568.894671</td>\n",
       "      <td>199916</td>\n",
       "      <td>1737014573657412241401574926420309</td>\n",
       "      <td>13</td>\n",
       "      <td>12880825</td>\n",
       "      <td>1200000</td>\n",
       "      <td>0</td>\n",
       "      <td>2077.643713</td>\n",
       "      <td>2077.966899</td>\n",
       "      <td>2021-07-23 05:45:33</td>\n",
       "    </tr>\n",
       "    <tr>\n",
       "      <th>10028</th>\n",
       "      <td>28</td>\n",
       "      <td>0x99851734404af09bc5542f86e8692e6c19770bce02b2...</td>\n",
       "      <td>1627019141</td>\n",
       "      <td>0xf6b22254f5804e74c7aea9b7000a596f587d9dd0</td>\n",
       "      <td>-109502.386210</td>\n",
       "      <td>52.800000</td>\n",
       "      <td>109674.435754</td>\n",
       "      <td>199919</td>\n",
       "      <td>1737245530197844108914071292294170</td>\n",
       "      <td>221</td>\n",
       "      <td>12880826</td>\n",
       "      <td>1657744</td>\n",
       "      <td>30000000000</td>\n",
       "      <td>2077.167344</td>\n",
       "      <td>2078.204818</td>\n",
       "      <td>2021-07-23 05:45:41</td>\n",
       "    </tr>\n",
       "    <tr>\n",
       "      <th>10029</th>\n",
       "      <td>29</td>\n",
       "      <td>0x221d487df383480bf9581d6886e4302ba66faa6c9410...</td>\n",
       "      <td>1627019181</td>\n",
       "      <td>0x07b63b5e9cf66cd1252322ff2bc83fc70af0599b</td>\n",
       "      <td>-24395.311918</td>\n",
       "      <td>11.764875</td>\n",
       "      <td>24432.377766</td>\n",
       "      <td>199920</td>\n",
       "      <td>1737297160029465634336662126734786</td>\n",
       "      <td>302</td>\n",
       "      <td>12880827</td>\n",
       "      <td>531508</td>\n",
       "      <td>22000000000</td>\n",
       "      <td>2076.722182</td>\n",
       "      <td>2078.419155</td>\n",
       "      <td>2021-07-23 05:46:21</td>\n",
       "    </tr>\n",
       "    <tr>\n",
       "      <th>10030</th>\n",
       "      <td>30</td>\n",
       "      <td>0x5a245ebf1b240bdadfafd749aafa4cc013a695ef261e...</td>\n",
       "      <td>1627019271</td>\n",
       "      <td>0x38acab6cd36b2be796970e79dd3be224175a8d59</td>\n",
       "      <td>-2177.081847</td>\n",
       "      <td>1.050000</td>\n",
       "      <td>2180.360214</td>\n",
       "      <td>199920</td>\n",
       "      <td>1737340782208339557113034110129032</td>\n",
       "      <td>345</td>\n",
       "      <td>12880833</td>\n",
       "      <td>328664</td>\n",
       "      <td>18000000000</td>\n",
       "      <td>2076.533537</td>\n",
       "      <td>2078.623254</td>\n",
       "      <td>2021-07-23 05:47:51</td>\n",
       "    </tr>\n",
       "    <tr>\n",
       "      <th>10031</th>\n",
       "      <td>31</td>\n",
       "      <td>0xe5b1db3c18d18705f8e9bd4fb39754bee0263c247c6d...</td>\n",
       "      <td>1627019271</td>\n",
       "      <td>0xe5a7e51ea061a5615ea8c881d99cf24f01f7e7e9</td>\n",
       "      <td>-18279.636789</td>\n",
       "      <td>8.815992</td>\n",
       "      <td>18307.344437</td>\n",
       "      <td>199920</td>\n",
       "      <td>1737336139665893200728061691402996</td>\n",
       "      <td>331</td>\n",
       "      <td>12880833</td>\n",
       "      <td>320688</td>\n",
       "      <td>18000000000</td>\n",
       "      <td>2076.606230</td>\n",
       "      <td>2078.813772</td>\n",
       "      <td>2021-07-23 05:47:51</td>\n",
       "    </tr>\n",
       "    <tr>\n",
       "      <th>10032</th>\n",
       "      <td>32</td>\n",
       "      <td>0x54a4bd197994edb5abb445bf98018960ffdea6578bbd...</td>\n",
       "      <td>1627019334</td>\n",
       "      <td>0xa549ed0d3bdcd7407aa42d3753c376164030daa5</td>\n",
       "      <td>-1576.437172</td>\n",
       "      <td>0.760314</td>\n",
       "      <td>1578.810473</td>\n",
       "      <td>199920</td>\n",
       "      <td>1737344143914842557648808309853328</td>\n",
       "      <td>380</td>\n",
       "      <td>12880835</td>\n",
       "      <td>287038</td>\n",
       "      <td>20700000000</td>\n",
       "      <td>2076.523204</td>\n",
       "      <td>2079.022630</td>\n",
       "      <td>2021-07-23 05:48:54</td>\n",
       "    </tr>\n",
       "    <tr>\n",
       "      <th>10033</th>\n",
       "      <td>33</td>\n",
       "      <td>0x303cfccfe72389fc3102c94e3f1c2ccdc947d8e5b176...</td>\n",
       "      <td>1627020105</td>\n",
       "      <td>0xcf16bc9eaf3081822cdf51ebf29514e0d61cbdf6</td>\n",
       "      <td>-82927.466441</td>\n",
       "      <td>40.000000</td>\n",
       "      <td>83056.465793</td>\n",
       "      <td>199922</td>\n",
       "      <td>1737521011648518687534971966367683</td>\n",
       "      <td>11</td>\n",
       "      <td>12880900</td>\n",
       "      <td>1200000</td>\n",
       "      <td>1</td>\n",
       "      <td>2076.411645</td>\n",
       "      <td>2079.222000</td>\n",
       "      <td>2021-07-23 06:01:45</td>\n",
       "    </tr>\n",
       "    <tr>\n",
       "      <th>10034</th>\n",
       "      <td>34</td>\n",
       "      <td>0x7249dc1433796f11e39e715ddcd78ceaa5b2232e50d5...</td>\n",
       "      <td>1627020116</td>\n",
       "      <td>0xd248711655893f8bf0ccf44eeee4702cda9e7ba9</td>\n",
       "      <td>-71384.766485</td>\n",
       "      <td>34.438911</td>\n",
       "      <td>71495.303366</td>\n",
       "      <td>199924</td>\n",
       "      <td>1737673289951301421918784362374771</td>\n",
       "      <td>95</td>\n",
       "      <td>12880902</td>\n",
       "      <td>1200000</td>\n",
       "      <td>28477321882</td>\n",
       "      <td>2076.003614</td>\n",
       "      <td>2079.361729</td>\n",
       "      <td>2021-07-23 06:01:56</td>\n",
       "    </tr>\n",
       "    <tr>\n",
       "      <th>10035</th>\n",
       "      <td>35</td>\n",
       "      <td>0x4b2f2139a872c37368441b4f896c42ee2a6d7173a58b...</td>\n",
       "      <td>1627020133</td>\n",
       "      <td>0xc68cb01924d1d43d628435d9e0ddb472a65300fb</td>\n",
       "      <td>-178567.770974</td>\n",
       "      <td>86.174788</td>\n",
       "      <td>178856.065762</td>\n",
       "      <td>199928</td>\n",
       "      <td>1738054328438633118356587461943524</td>\n",
       "      <td>3</td>\n",
       "      <td>12880903</td>\n",
       "      <td>1200000</td>\n",
       "      <td>0</td>\n",
       "      <td>2075.503398</td>\n",
       "      <td>2079.489533</td>\n",
       "      <td>2021-07-23 06:02:13</td>\n",
       "    </tr>\n",
       "    <tr>\n",
       "      <th>10036</th>\n",
       "      <td>36</td>\n",
       "      <td>0xaa89dc4fc4dbb1066c33ef361aa66c55b5ae5781620c...</td>\n",
       "      <td>1627020133</td>\n",
       "      <td>0xcefcca169357a18eb8c3f230f92b58562e48cae5</td>\n",
       "      <td>-20296.215284</td>\n",
       "      <td>9.797116</td>\n",
       "      <td>20327.004911</td>\n",
       "      <td>199929</td>\n",
       "      <td>1738097648281656932612122117740784</td>\n",
       "      <td>207</td>\n",
       "      <td>12880903</td>\n",
       "      <td>778686</td>\n",
       "      <td>20000000000</td>\n",
       "      <td>2074.794736</td>\n",
       "      <td>2079.727290</td>\n",
       "      <td>2021-07-23 06:02:13</td>\n",
       "    </tr>\n",
       "    <tr>\n",
       "      <th>10037</th>\n",
       "      <td>37</td>\n",
       "      <td>0xd6f87a4263bbfff610af0010422a4a472124ac2ee9e1...</td>\n",
       "      <td>1627020151</td>\n",
       "      <td>0x8b096af1a5279242908347dfe7229c4fba8d8070</td>\n",
       "      <td>-16220.711318</td>\n",
       "      <td>7.830195</td>\n",
       "      <td>16245.277642</td>\n",
       "      <td>199929</td>\n",
       "      <td>1738132271001687300385277785093451</td>\n",
       "      <td>118</td>\n",
       "      <td>12880904</td>\n",
       "      <td>321966</td>\n",
       "      <td>20000000000</td>\n",
       "      <td>2074.696498</td>\n",
       "      <td>2079.828880</td>\n",
       "      <td>2021-07-23 06:02:31</td>\n",
       "    </tr>\n",
       "    <tr>\n",
       "      <th>10039</th>\n",
       "      <td>39</td>\n",
       "      <td>0x72368bff04a05d08d4b623da3f5a8f20c64ccaf4222b...</td>\n",
       "      <td>1627020171</td>\n",
       "      <td>0xdc60ac0f91d032ddf0f5e70e5c36528a80970492</td>\n",
       "      <td>-2258.725673</td>\n",
       "      <td>1.090375</td>\n",
       "      <td>2262.127099</td>\n",
       "      <td>199929</td>\n",
       "      <td>1738136837176478578854433449425663</td>\n",
       "      <td>106</td>\n",
       "      <td>12880907</td>\n",
       "      <td>341492</td>\n",
       "      <td>21000000000</td>\n",
       "      <td>2074.632212</td>\n",
       "      <td>2080.086862</td>\n",
       "      <td>2021-07-23 06:02:51</td>\n",
       "    </tr>\n",
       "    <tr>\n",
       "      <th>10040</th>\n",
       "      <td>40</td>\n",
       "      <td>0x6a0282f25392869fe950215e238334850094c4902bc8...</td>\n",
       "      <td>1627020198</td>\n",
       "      <td>0xbe3fb7d46d7abd3c3863204552c7da7e6f173c32</td>\n",
       "      <td>-100877.028259</td>\n",
       "      <td>48.703458</td>\n",
       "      <td>101035.080355</td>\n",
       "      <td>199932</td>\n",
       "      <td>1738352642566502494258726452493053</td>\n",
       "      <td>59</td>\n",
       "      <td>12880910</td>\n",
       "      <td>200402</td>\n",
       "      <td>30000000000</td>\n",
       "      <td>2074.494994</td>\n",
       "      <td>2080.149666</td>\n",
       "      <td>2021-07-23 06:03:18</td>\n",
       "    </tr>\n",
       "    <tr>\n",
       "      <th>10041</th>\n",
       "      <td>41</td>\n",
       "      <td>0x8b420152548e8428f2443a66022384efd3fdda718c2d...</td>\n",
       "      <td>1627020221</td>\n",
       "      <td>0x4e5f2d10bc0072201524623705853229a1dfd1bd</td>\n",
       "      <td>-14496.690021</td>\n",
       "      <td>7.000000</td>\n",
       "      <td>14518.630208</td>\n",
       "      <td>199932</td>\n",
       "      <td>1738383659619172261476665576627903</td>\n",
       "      <td>71</td>\n",
       "      <td>12880912</td>\n",
       "      <td>193887</td>\n",
       "      <td>20000000000</td>\n",
       "      <td>2074.090030</td>\n",
       "      <td>2080.165663</td>\n",
       "      <td>2021-07-23 06:03:41</td>\n",
       "    </tr>\n",
       "    <tr>\n",
       "      <th>10042</th>\n",
       "      <td>42</td>\n",
       "      <td>0xea20b8f4252adca8e8a2271210187949cbb9dae7f56b...</td>\n",
       "      <td>1627020246</td>\n",
       "      <td>0x3b6628342717654b60d623048a36325e28e0f155</td>\n",
       "      <td>-12.812803</td>\n",
       "      <td>0.006187</td>\n",
       "      <td>12.832080</td>\n",
       "      <td>199932</td>\n",
       "      <td>1738383687033877848131973309543927</td>\n",
       "      <td>253</td>\n",
       "      <td>12880914</td>\n",
       "      <td>291109</td>\n",
       "      <td>14000000000</td>\n",
       "      <td>2074.034459</td>\n",
       "      <td>2080.105538</td>\n",
       "      <td>2021-07-23 06:04:06</td>\n",
       "    </tr>\n",
       "    <tr>\n",
       "      <th>10043</th>\n",
       "      <td>43</td>\n",
       "      <td>0xc9534b31fb872b9aa55589acd65adeccd05fffbcb6c7...</td>\n",
       "      <td>1627020520</td>\n",
       "      <td>0x1b42bed819b3e74aef9fce59c23781521163b248</td>\n",
       "      <td>-68920.260311</td>\n",
       "      <td>33.282865</td>\n",
       "      <td>69026.884014</td>\n",
       "      <td>199934</td>\n",
       "      <td>1738531163658349541075330175759870</td>\n",
       "      <td>117</td>\n",
       "      <td>12880936</td>\n",
       "      <td>1200000</td>\n",
       "      <td>20225000001</td>\n",
       "      <td>2073.946590</td>\n",
       "      <td>2080.072741</td>\n",
       "      <td>2021-07-23 06:08:40</td>\n",
       "    </tr>\n",
       "    <tr>\n",
       "      <th>10044</th>\n",
       "      <td>44</td>\n",
       "      <td>0x40a22853426e1620b3c1189992d9a1521cc4359c58bb...</td>\n",
       "      <td>1627020523</td>\n",
       "      <td>0xf6b22254f5804e74c7aea9b7000a596f587d9dd0</td>\n",
       "      <td>-86935.724689</td>\n",
       "      <td>42.000000</td>\n",
       "      <td>87071.187209</td>\n",
       "      <td>199938</td>\n",
       "      <td>1738905213909205598082798836277783</td>\n",
       "      <td>129</td>\n",
       "      <td>12880937</td>\n",
       "      <td>1046757</td>\n",
       "      <td>38000000000</td>\n",
       "      <td>2073.123505</td>\n",
       "      <td>2079.976011</td>\n",
       "      <td>2021-07-23 06:08:43</td>\n",
       "    </tr>\n",
       "    <tr>\n",
       "      <th>10045</th>\n",
       "      <td>45</td>\n",
       "      <td>0xe40e3b6736dfb90a17ef7c70eef6a7f6684d39862d47...</td>\n",
       "      <td>1627020523</td>\n",
       "      <td>0x29151005083afc6746dcecafb637974f248a3d74</td>\n",
       "      <td>-87816.775942</td>\n",
       "      <td>42.416524</td>\n",
       "      <td>87953.658572</td>\n",
       "      <td>199936</td>\n",
       "      <td>1738719111593186994775164091468682</td>\n",
       "      <td>63</td>\n",
       "      <td>12880937</td>\n",
       "      <td>1200000</td>\n",
       "      <td>97428290628</td>\n",
       "      <td>2073.570658</td>\n",
       "      <td>2079.881864</td>\n",
       "      <td>2021-07-23 06:08:43</td>\n",
       "    </tr>\n",
       "    <tr>\n",
       "      <th>10046</th>\n",
       "      <td>46</td>\n",
       "      <td>0x28c4c2b41ab5d07a42a819cabdb942967d53f667f550...</td>\n",
       "      <td>1627020585</td>\n",
       "      <td>0x82c6167e1f4132ab97a2676c78c32ad12fe3a56e</td>\n",
       "      <td>-161119.413015</td>\n",
       "      <td>77.863070</td>\n",
       "      <td>161377.851100</td>\n",
       "      <td>199942</td>\n",
       "      <td>1739250225758325415481271301835108</td>\n",
       "      <td>158</td>\n",
       "      <td>12880938</td>\n",
       "      <td>1200000</td>\n",
       "      <td>36842862673</td>\n",
       "      <td>2072.585258</td>\n",
       "      <td>2079.741370</td>\n",
       "      <td>2021-07-23 06:09:45</td>\n",
       "    </tr>\n",
       "    <tr>\n",
       "      <th>10047</th>\n",
       "      <td>47</td>\n",
       "      <td>0x66390b1f26abdcdfc7a38bf098e049ed78a340ed3a7b...</td>\n",
       "      <td>1627020619</td>\n",
       "      <td>0x6a611906add2303ce9598f2d07917e54137f77a0</td>\n",
       "      <td>-320498.543474</td>\n",
       "      <td>155.000000</td>\n",
       "      <td>321044.203830</td>\n",
       "      <td>199952</td>\n",
       "      <td>1740065943447511976468563364800007</td>\n",
       "      <td>457</td>\n",
       "      <td>12880939</td>\n",
       "      <td>194404</td>\n",
       "      <td>23000000000</td>\n",
       "      <td>2071.252928</td>\n",
       "      <td>2079.548303</td>\n",
       "      <td>2021-07-23 06:10:19</td>\n",
       "    </tr>\n",
       "    <tr>\n",
       "      <th>10048</th>\n",
       "      <td>48</td>\n",
       "      <td>0x8761f124937f3ea3f5caab75815a81cfb9114f656c03...</td>\n",
       "      <td>1627020619</td>\n",
       "      <td>0xd248711655893f8bf0ccf44eeee4702cda9e7ba9</td>\n",
       "      <td>-60184.859674</td>\n",
       "      <td>29.093050</td>\n",
       "      <td>60277.645744</td>\n",
       "      <td>199944</td>\n",
       "      <td>1739379137281252845214197044671182</td>\n",
       "      <td>74</td>\n",
       "      <td>12880939</td>\n",
       "      <td>1200000</td>\n",
       "      <td>36842862673</td>\n",
       "      <td>2071.891603</td>\n",
       "      <td>2079.357645</td>\n",
       "      <td>2021-07-23 06:10:19</td>\n",
       "    </tr>\n",
       "    <tr>\n",
       "      <th>10049</th>\n",
       "      <td>49</td>\n",
       "      <td>0x7acc0c8551ac7140bcae7c0ca410ac8d27552f07dd53...</td>\n",
       "      <td>1627020650</td>\n",
       "      <td>0x2a7ca42cd7a00223d1ef15826a4d0ae03daae015</td>\n",
       "      <td>-31082.241160</td>\n",
       "      <td>15.038553</td>\n",
       "      <td>31129.601752</td>\n",
       "      <td>199952</td>\n",
       "      <td>1740132579388149744015798754697137</td>\n",
       "      <td>155</td>\n",
       "      <td>12880940</td>\n",
       "      <td>1200000</td>\n",
       "      <td>28125250001</td>\n",
       "      <td>2069.986531</td>\n",
       "      <td>2079.108267</td>\n",
       "      <td>2021-07-23 06:10:50</td>\n",
       "    </tr>\n",
       "  </tbody>\n",
       "</table>\n",
       "</div>"
      ],
      "text/plain": [
       "       Unnamed: 0                                                 id  \\\n",
       "10012          12  0x84b128dd452d551149f158cb1fbbb07ac195cad96f97...   \n",
       "10013          13  0x281aca0cff2210ed1edc926e6bd1512e7bccc6193a2c...   \n",
       "10014          14  0xd9c38bff243bf5d023b35e0540479d14122148240319...   \n",
       "10015          15  0x2f3079261bbbb2b61f3e4b101cf4055cc5273692d6a2...   \n",
       "10016          16  0xfe9ebd6185c27df573ada53b6d30bc89a380baf7dc73...   \n",
       "10017          17  0x306f8a92e058cbdd7a7724f4fe4f99cf995ee0ab8d19...   \n",
       "10018          18  0xdf00eef873da423f241a258ffd79c9a4dcb40602d07c...   \n",
       "10019          19  0xbad96e290a86a940cca7d5d9ae3edd0095d812f0b0c9...   \n",
       "10020          20  0xfeb0fce128d4f84958e88355912a8fce86d2bed4ea32...   \n",
       "10021          21  0x4970b56a5786c2642559704d172c880598475b995d7c...   \n",
       "10022          22  0x678d3fd9b088ded12bdfbf65bb72eb9965d94f0a2cb3...   \n",
       "10023          23  0x3a4ecdf6b76652dfc42927974e4753019d2313519a98...   \n",
       "10024          24  0xf5b87768e8388d07c99fec642cae2c160a3a7c7fb90b...   \n",
       "10025          25  0x1081d9ccb3b1133cf6a01720a3149dddf0d70d95b66d...   \n",
       "10026          26  0x8d95b223b301e724e559c7bfa1e8f50ebd14b47a1423...   \n",
       "10027          27  0x2b9a42285e8bb6623c91656c26aca93075a68de0bafe...   \n",
       "10028          28  0x99851734404af09bc5542f86e8692e6c19770bce02b2...   \n",
       "10029          29  0x221d487df383480bf9581d6886e4302ba66faa6c9410...   \n",
       "10030          30  0x5a245ebf1b240bdadfafd749aafa4cc013a695ef261e...   \n",
       "10031          31  0xe5b1db3c18d18705f8e9bd4fb39754bee0263c247c6d...   \n",
       "10032          32  0x54a4bd197994edb5abb445bf98018960ffdea6578bbd...   \n",
       "10033          33  0x303cfccfe72389fc3102c94e3f1c2ccdc947d8e5b176...   \n",
       "10034          34  0x7249dc1433796f11e39e715ddcd78ceaa5b2232e50d5...   \n",
       "10035          35  0x4b2f2139a872c37368441b4f896c42ee2a6d7173a58b...   \n",
       "10036          36  0xaa89dc4fc4dbb1066c33ef361aa66c55b5ae5781620c...   \n",
       "10037          37  0xd6f87a4263bbfff610af0010422a4a472124ac2ee9e1...   \n",
       "10039          39  0x72368bff04a05d08d4b623da3f5a8f20c64ccaf4222b...   \n",
       "10040          40  0x6a0282f25392869fe950215e238334850094c4902bc8...   \n",
       "10041          41  0x8b420152548e8428f2443a66022384efd3fdda718c2d...   \n",
       "10042          42  0xea20b8f4252adca8e8a2271210187949cbb9dae7f56b...   \n",
       "10043          43  0xc9534b31fb872b9aa55589acd65adeccd05fffbcb6c7...   \n",
       "10044          44  0x40a22853426e1620b3c1189992d9a1521cc4359c58bb...   \n",
       "10045          45  0xe40e3b6736dfb90a17ef7c70eef6a7f6684d39862d47...   \n",
       "10046          46  0x28c4c2b41ab5d07a42a819cabdb942967d53f667f550...   \n",
       "10047          47  0x66390b1f26abdcdfc7a38bf098e049ed78a340ed3a7b...   \n",
       "10048          48  0x8761f124937f3ea3f5caab75815a81cfb9114f656c03...   \n",
       "10049          49  0x7acc0c8551ac7140bcae7c0ca410ac8d27552f07dd53...   \n",
       "\n",
       "        timestamp                                      origin        amount0  \\\n",
       "10012  1627018952  0xdc9dcb1f7979ff6cbf3d11c46e210125e7f86bf0  -19257.487499   \n",
       "10013  1627018972  0xcf16bc9eaf3081822cdf51ebf29514e0d61cbdf6  -83181.644536   \n",
       "10014  1627018979  0x68efce9676aabf7aee3b804c32e5973303159207  -35848.901280   \n",
       "10015  1627018997  0x4e398cb73b2e81485d4d9fb5ae1a767b839e368d -139694.746797   \n",
       "10016  1627018997  0xf6b22254f5804e74c7aea9b7000a596f587d9dd0  -64842.422046   \n",
       "10017  1627019004  0x5a243879d1a43f48042c33bbc8051c69756f67d4 -195663.125696   \n",
       "10018  1627019023  0x17f32caca965ffc80996dfedb5515bb958140edf  -50000.646956   \n",
       "10019  1627019036  0x2b43667071de0df373436998bef3816507eab5e9    -469.202698   \n",
       "10020  1627019036  0x68efce9676aabf7aee3b804c32e5973303159207  -34910.541293   \n",
       "10021  1627019045  0x4e398cb73b2e81485d4d9fb5ae1a767b839e368d -171679.146543   \n",
       "10022  1627019045  0xf6b22254f5804e74c7aea9b7000a596f587d9dd0 -103778.811646   \n",
       "10023  1627019061  0xfb9d2eb56e88607ee2a77797e35b4ebed934b791  -86525.640136   \n",
       "10024  1627019061  0x68efce9676aabf7aee3b804c32e5973303159207  -38320.010746   \n",
       "10025  1627019080  0x278fadbc671d02ea114bf9b6e9e9e4269ecca1d6    -207.261071   \n",
       "10026  1627019086  0x426a04b46e1052712b021213a63fe40e5376f8cf   -9900.730715   \n",
       "10027  1627019133  0xd248711655893f8bf0ccf44eeee4702cda9e7ba9  -89429.477341   \n",
       "10028  1627019141  0xf6b22254f5804e74c7aea9b7000a596f587d9dd0 -109502.386210   \n",
       "10029  1627019181  0x07b63b5e9cf66cd1252322ff2bc83fc70af0599b  -24395.311918   \n",
       "10030  1627019271  0x38acab6cd36b2be796970e79dd3be224175a8d59   -2177.081847   \n",
       "10031  1627019271  0xe5a7e51ea061a5615ea8c881d99cf24f01f7e7e9  -18279.636789   \n",
       "10032  1627019334  0xa549ed0d3bdcd7407aa42d3753c376164030daa5   -1576.437172   \n",
       "10033  1627020105  0xcf16bc9eaf3081822cdf51ebf29514e0d61cbdf6  -82927.466441   \n",
       "10034  1627020116  0xd248711655893f8bf0ccf44eeee4702cda9e7ba9  -71384.766485   \n",
       "10035  1627020133  0xc68cb01924d1d43d628435d9e0ddb472a65300fb -178567.770974   \n",
       "10036  1627020133  0xcefcca169357a18eb8c3f230f92b58562e48cae5  -20296.215284   \n",
       "10037  1627020151  0x8b096af1a5279242908347dfe7229c4fba8d8070  -16220.711318   \n",
       "10039  1627020171  0xdc60ac0f91d032ddf0f5e70e5c36528a80970492   -2258.725673   \n",
       "10040  1627020198  0xbe3fb7d46d7abd3c3863204552c7da7e6f173c32 -100877.028259   \n",
       "10041  1627020221  0x4e5f2d10bc0072201524623705853229a1dfd1bd  -14496.690021   \n",
       "10042  1627020246  0x3b6628342717654b60d623048a36325e28e0f155     -12.812803   \n",
       "10043  1627020520  0x1b42bed819b3e74aef9fce59c23781521163b248  -68920.260311   \n",
       "10044  1627020523  0xf6b22254f5804e74c7aea9b7000a596f587d9dd0  -86935.724689   \n",
       "10045  1627020523  0x29151005083afc6746dcecafb637974f248a3d74  -87816.775942   \n",
       "10046  1627020585  0x82c6167e1f4132ab97a2676c78c32ad12fe3a56e -161119.413015   \n",
       "10047  1627020619  0x6a611906add2303ce9598f2d07917e54137f77a0 -320498.543474   \n",
       "10048  1627020619  0xd248711655893f8bf0ccf44eeee4702cda9e7ba9  -60184.859674   \n",
       "10049  1627020650  0x2a7ca42cd7a00223d1ef15826a4d0ae03daae015  -31082.241160   \n",
       "\n",
       "          amount1      amountUSD    tick                        sqrtPriceX96  \\\n",
       "10012    9.259300   19286.686206  199890  1734688504017566692943668022044144   \n",
       "10013   40.000000   83311.001201  199892  1734863517982413600230165566551513   \n",
       "10014   17.241341   35903.617980  199893  1734938934656285330520100053376765   \n",
       "10015   67.199758  139916.789000  199896  1735232878286364281595155267289719   \n",
       "10016   31.200000   64942.535916  199897  1735369352605710385125266756215182   \n",
       "10017   94.176292  195980.796755  199902  1735781296368811006393326208229104   \n",
       "10018   24.073412   50077.394818  199903  1735886597732467470260164080521212   \n",
       "10019    0.225936     469.908754  199904  1735961115192999655841972166846599   \n",
       "10020   16.809831   34963.806275  199904  1735960126907878644885463207800060   \n",
       "10021   82.686323  171955.378491  199908  1736322799798207396913885623919958   \n",
       "10022   50.000000  103941.503979  199911  1736541508643313332058295061300508   \n",
       "10023   41.701036   86660.376957  199914  1736804687857863081838037788517135   \n",
       "10024   18.465532   38378.557590  199912  1736622280148603272988117635096978   \n",
       "10025    0.099900     207.572925  199914  1736805124838135603496456318573021   \n",
       "10026    4.772219    9915.686176  199914  1736825999366374455764560416512143   \n",
       "10027   43.110806   89568.894671  199916  1737014573657412241401574926420309   \n",
       "10028   52.800000  109674.435754  199919  1737245530197844108914071292294170   \n",
       "10029   11.764875   24432.377766  199920  1737297160029465634336662126734786   \n",
       "10030    1.050000    2180.360214  199920  1737340782208339557113034110129032   \n",
       "10031    8.815992   18307.344437  199920  1737336139665893200728061691402996   \n",
       "10032    0.760314    1578.810473  199920  1737344143914842557648808309853328   \n",
       "10033   40.000000   83056.465793  199922  1737521011648518687534971966367683   \n",
       "10034   34.438911   71495.303366  199924  1737673289951301421918784362374771   \n",
       "10035   86.174788  178856.065762  199928  1738054328438633118356587461943524   \n",
       "10036    9.797116   20327.004911  199929  1738097648281656932612122117740784   \n",
       "10037    7.830195   16245.277642  199929  1738132271001687300385277785093451   \n",
       "10039    1.090375    2262.127099  199929  1738136837176478578854433449425663   \n",
       "10040   48.703458  101035.080355  199932  1738352642566502494258726452493053   \n",
       "10041    7.000000   14518.630208  199932  1738383659619172261476665576627903   \n",
       "10042    0.006187      12.832080  199932  1738383687033877848131973309543927   \n",
       "10043   33.282865   69026.884014  199934  1738531163658349541075330175759870   \n",
       "10044   42.000000   87071.187209  199938  1738905213909205598082798836277783   \n",
       "10045   42.416524   87953.658572  199936  1738719111593186994775164091468682   \n",
       "10046   77.863070  161377.851100  199942  1739250225758325415481271301835108   \n",
       "10047  155.000000  321044.203830  199952  1740065943447511976468563364800007   \n",
       "10048   29.093050   60277.645744  199944  1739379137281252845214197044671182   \n",
       "10049   15.038553   31129.601752  199952  1740132579388149744015798754697137   \n",
       "\n",
       "       logIndex  transaction.blockNumber  transaction.gasUsed  \\\n",
       "10012        18                 12880808              2966445   \n",
       "10013         3                 12880809              1200000   \n",
       "10014        25                 12880810              1200000   \n",
       "10015        14                 12880814              1200000   \n",
       "10016        41                 12880814              1478101   \n",
       "10017         3                 12880816              1200000   \n",
       "10018       176                 12880818              1200000   \n",
       "10019        71                 12880819               266828   \n",
       "10020        67                 12880819              1200000   \n",
       "10021       121                 12880820              1200000   \n",
       "10022       152                 12880820              1154038   \n",
       "10023       184                 12880821               311654   \n",
       "10024       151                 12880821              1200000   \n",
       "10025       232                 12880822               291147   \n",
       "10026       148                 12880823               444415   \n",
       "10027        13                 12880825              1200000   \n",
       "10028       221                 12880826              1657744   \n",
       "10029       302                 12880827               531508   \n",
       "10030       345                 12880833               328664   \n",
       "10031       331                 12880833               320688   \n",
       "10032       380                 12880835               287038   \n",
       "10033        11                 12880900              1200000   \n",
       "10034        95                 12880902              1200000   \n",
       "10035         3                 12880903              1200000   \n",
       "10036       207                 12880903               778686   \n",
       "10037       118                 12880904               321966   \n",
       "10039       106                 12880907               341492   \n",
       "10040        59                 12880910               200402   \n",
       "10041        71                 12880912               193887   \n",
       "10042       253                 12880914               291109   \n",
       "10043       117                 12880936              1200000   \n",
       "10044       129                 12880937              1046757   \n",
       "10045        63                 12880937              1200000   \n",
       "10046       158                 12880938              1200000   \n",
       "10047       457                 12880939               194404   \n",
       "10048        74                 12880939              1200000   \n",
       "10049       155                 12880940              1200000   \n",
       "\n",
       "       transaction.gasPrice        price           ma                date  \n",
       "10012                     0  2082.952939  2072.150506 2021-07-23 05:42:32  \n",
       "10013                     1  2082.775030  2072.591505 2021-07-23 05:42:52  \n",
       "10014           29097236028  2082.414517  2073.055327 2021-07-23 05:42:59  \n",
       "10015           30000000001  2082.102567  2073.513090 2021-07-23 05:43:17  \n",
       "10016           30000000000  2081.491536  2073.828716 2021-07-23 05:43:17  \n",
       "10017                     0  2080.999280  2074.242812 2021-07-23 05:43:24  \n",
       "10018           20000000001  2080.195129  2074.653488 2021-07-23 05:43:43  \n",
       "10019           20700000000  2079.828963  2075.069809 2021-07-23 05:43:56  \n",
       "10020           20700000001  2079.961770  2075.499175 2021-07-23 05:43:56  \n",
       "10021           33750300001  2079.610893  2075.925611 2021-07-23 05:44:05  \n",
       "10022           30000000000  2078.830080  2076.352942 2021-07-23 05:44:05  \n",
       "10023           22000000000  2078.134859  2076.788150 2021-07-23 05:44:21  \n",
       "10024           22000000001  2078.388901  2077.109225 2021-07-23 05:44:21  \n",
       "10025           18700000000  2077.807053  2077.412927 2021-07-23 05:44:40  \n",
       "10026           22000000000  2077.793804  2077.698563 2021-07-23 05:44:46  \n",
       "10027                     0  2077.643713  2077.966899 2021-07-23 05:45:33  \n",
       "10028           30000000000  2077.167344  2078.204818 2021-07-23 05:45:41  \n",
       "10029           22000000000  2076.722182  2078.419155 2021-07-23 05:46:21  \n",
       "10030           18000000000  2076.533537  2078.623254 2021-07-23 05:47:51  \n",
       "10031           18000000000  2076.606230  2078.813772 2021-07-23 05:47:51  \n",
       "10032           20700000000  2076.523204  2079.022630 2021-07-23 05:48:54  \n",
       "10033                     1  2076.411645  2079.222000 2021-07-23 06:01:45  \n",
       "10034           28477321882  2076.003614  2079.361729 2021-07-23 06:01:56  \n",
       "10035                     0  2075.503398  2079.489533 2021-07-23 06:02:13  \n",
       "10036           20000000000  2074.794736  2079.727290 2021-07-23 06:02:13  \n",
       "10037           20000000000  2074.696498  2079.828880 2021-07-23 06:02:31  \n",
       "10039           21000000000  2074.632212  2080.086862 2021-07-23 06:02:51  \n",
       "10040           30000000000  2074.494994  2080.149666 2021-07-23 06:03:18  \n",
       "10041           20000000000  2074.090030  2080.165663 2021-07-23 06:03:41  \n",
       "10042           14000000000  2074.034459  2080.105538 2021-07-23 06:04:06  \n",
       "10043           20225000001  2073.946590  2080.072741 2021-07-23 06:08:40  \n",
       "10044           38000000000  2073.123505  2079.976011 2021-07-23 06:08:43  \n",
       "10045           97428290628  2073.570658  2079.881864 2021-07-23 06:08:43  \n",
       "10046           36842862673  2072.585258  2079.741370 2021-07-23 06:09:45  \n",
       "10047           23000000000  2071.252928  2079.548303 2021-07-23 06:10:19  \n",
       "10048           36842862673  2071.891603  2079.357645 2021-07-23 06:10:19  \n",
       "10049           28125250001  2069.986531  2079.108267 2021-07-23 06:10:50  "
      ]
     },
     "execution_count": 364,
     "metadata": {},
     "output_type": "execute_result"
    }
   ],
   "source": [
    "test_set_out"
   ]
  },
  {
   "cell_type": "code",
   "execution_count": null,
   "id": "cd426c82",
   "metadata": {},
   "outputs": [],
   "source": []
  },
  {
   "cell_type": "code",
   "execution_count": null,
   "id": "4fa5a773",
   "metadata": {},
   "outputs": [],
   "source": []
  },
  {
   "cell_type": "code",
   "execution_count": null,
   "id": "c02f5248",
   "metadata": {},
   "outputs": [],
   "source": [
    "#IL in UniV3:"
   ]
  },
  {
   "cell_type": "markdown",
   "id": "17a3187d",
   "metadata": {},
   "source": [
    "# Simulations\n",
    "\n",
    "Simulating 5000 steps ahead for 1000 price trajectories and getting output metrics"
   ]
  },
  {
   "cell_type": "code",
   "execution_count": null,
   "id": "c04b6fd4",
   "metadata": {},
   "outputs": [],
   "source": [
    "N_sim = 1000\n",
    "T = 5000\n",
    "mQ = eps.dropna().cov() # unconditional covariance matrix of standartized residuals\n",
    "dof = 5\n",
    "dim = returns.shape[1]\n",
    "S_mult_sim = np.zeros([N_sim, dim, T])\n",
    "So = df.iloc[-1,:]\n",
    "returns_df = pd.DataFrame()\n",
    "prices_df = pd.DataFrame()\n",
    "\n",
    "for n in range(1, N_sim):\n",
    "    ret, S = simulate_Student_t_GARCH_mult(So, dof, T, mQ, returns, df_params)\n",
    "    S_mult_sim[n] = S.T\n",
    "\n",
    "    returns_df['eth_'+'{}'.format(n)], returns_df['aave_'+'{}'.format(n)] = ret[:,0], ret[:,1]\n",
    "    prices_df['eth_'+'{}'.format(n)], prices_df['aave_'+'{}'.format(n)] = S[:,0], S[:,1]"
   ]
  },
  {
   "cell_type": "code",
   "execution_count": null,
   "id": "963b7102",
   "metadata": {},
   "outputs": [],
   "source": [
    "#Check the simulation time\n",
    "print(datetime.now()-start)"
   ]
  },
  {
   "cell_type": "code",
   "execution_count": null,
   "id": "bf9735e8",
   "metadata": {},
   "outputs": [],
   "source": [
    "# This is toy dataset, but price_xs, price_ys, amounts can be changed to the price and trade simulation outputs: \n",
    "\n",
    "x_reserve = 500000\n",
    "y_reserve = 2000\n",
    "price_ys = [2, 2.1, 2, 1.9, 2.2]\n",
    "amounts_xs = [10, -2, 5, 7, -8]\n",
    "amounts_ys = [-2, 4, 5, 11, -7]\n",
    "x_virtual = (y_reserve * y_price)/x_price\n",
    "y_virtual = (x_reserve * x_price)/y_price\n",
    "c_x = c_y = 1\n",
    "fee = 0.003\n",
    "x_price = 1\n",
    "prices_eff = []\n",
    "curves = []\n",
    "y=x=1\n",
    "curve = 'gy'\n",
    "x_excess = y_excess = 0\n",
    "x_coord = x_reserve + x_excess\n",
    "y_coord = y_reserve + y_excess\n",
    "y_exs = []\n",
    "\n",
    "for y_price, amount_x, amount_y in zip(price_ys, amounts_xs, amounts_ys): \n",
    "    trades = [\"trades_sim_x\", \"trades_sim_y\"]\n",
    "    token_chosen = random.choice(trades)\n",
    "    \n",
    "    if token_chosen == \"trades_sim_x\": #X token\n",
    "        amount = amount_x\n",
    "        if amount>0: #Swap In x\n",
    "            if curve == 'fx':\n",
    "                x_in, y_out, fee_value, active_region, x_reserve, y_reserve, x_excess, y_excess, x_coord, y_coord = swapXInXSide(amount, x_excess, y_excess, fee, x_reserve, y_reserve, x_price, y_price, x_coord, y_coord)\n",
    "                price_eff_y = x_in/y_out\n",
    "            else: \n",
    "                x_in, y_out, fee_value, active_region, x_reserve, y_reserve, x_excess, y_excess, x_coord, y_coord = swapXInYSide(amount, x_excess, y_excess, fee, x_reserve, y_reserve, x_price, y_price, x_coord, y_coord)\n",
    "                price_eff_y = x_in/y_out\n",
    "                \n",
    "                \n",
    "        else: #Swap out x\n",
    "            if curve == 'fx': \n",
    "                x_out, y_in, fee_value, active_region, x_reserve, y_reserve, x_excess, y_excess, x_coord, y_coord = swapXOutXSide(amount, x_excess, y_excess, fee, x_reserve, y_reserve, x_price, y_price, x_coord, y_coord)\n",
    "                price_eff_y = x_out/y_in\n",
    "            else: \n",
    "                x_out, y_in, fee_value, active_region, x_reserve, y_reserve, x_excess, y_excess, x_coord, y_coord = swapXOutYSide(amount, x_excess, y_excess, fee, x_reserve, y_reserve, x_price, y_price, x_coord, y_coord)\n",
    "                price_eff_y = x_out/y_in\n",
    "                \n",
    "            if active_region == 0:\n",
    "                curve =='gy'\n",
    "            else:\n",
    "                curve =='fx'\n",
    "            \n",
    "            \n",
    "    else: # Y token\n",
    "        amount = amount_y\n",
    "        if amount>0: #Swap In y\n",
    "            if curve == 'gy': \n",
    "                y_in, x_out, fee_value, active_region, y_reserve, x_reserve, y_excess, x_excess, y_coord, x_coord = swapXInXSide(amount, x_excess, y_excess, fee, x_reserve, y_reserve, x_price, y_price, x_coord, y_coord)\n",
    "                price_eff_y = x_out/y_in\n",
    "            else: \n",
    "                y_in, x_out, fee_value, active_region, y_reserve, x_reserve, y_excess, x_excess, y_coord, x_coord = swapXInYSide(amount, x_excess, y_excess, fee, x_reserve, y_reserve, x_price, y_price, x_coord, y_coord)\n",
    "                price_eff_y = x_out/y_in\n",
    "                \n",
    "        else: #Swap out y\n",
    "            if curve =='gy':\n",
    "                y_out, x_in, fee_value, active_region, y_reserve, x_reserve, y_excess, x_excess, y_coord, x_coord = swapXOutXSide(amount, x_excess, y_excess, fee, x_reserve, y_reserve, x_price, y_price, x_coord, y_coord)\n",
    "                price_eff_y = x_in/y_out\n",
    "            else: \n",
    "                y_out, x_in, fee_value, active_region, y_reserve, x_reserve, y_excess, x_excess, y_coord, x_coord = swapXOutYSide(amount, x_excess, y_excess, fee, x_reserve, y_reserve, x_price, y_price, x_coord, y_coord)\n",
    "                price_eff_y = x_in/y_out\n",
    "                \n",
    "            if active_region == 0:\n",
    "                curve =='fx'\n",
    "            else:\n",
    "                curve =='gy'\n",
    "                \n",
    "    prices_eff.append(price_eff_y)"
   ]
  },
  {
   "cell_type": "code",
   "execution_count": 1,
   "id": "f5779276",
   "metadata": {},
   "outputs": [
    {
     "data": {
      "text/plain": [
       "2.512"
      ]
     },
     "execution_count": 1,
     "metadata": {},
     "output_type": "execute_result"
    }
   ],
   "source": [
    "ye = 1.4\n",
    "c = 1\n",
    "p = 0.556\n",
    "xc = 10\n",
    "x = 8\n",
    "\n",
    "fh = ye + p*(c*(2*xc - x) + (1-c)*(xc**2/x)-xc)\n",
    "fh"
   ]
  },
  {
   "cell_type": "code",
   "execution_count": 25,
   "id": "73d650b1",
   "metadata": {},
   "outputs": [
    {
     "data": {
      "text/plain": [
       "-0.33091666666666664"
      ]
     },
     "execution_count": 25,
     "metadata": {},
     "output_type": "execute_result"
    }
   ],
   "source": [
    "c = 0.7\n",
    "p = 0.5\n",
    "xc = 100000\n",
    "x = 1#500000\n",
    "q = 0.836\n",
    "a = 1.2\n",
    "\n",
    "dx = p*q*(c+(1-c)*((x**2)/(a*x)))\n",
    "cx3 = (a-x*dx)/a-x\n",
    "#cx4 = ((a-1)*(p*(c+(1-c)*xc**2 * (1/a)) - q*a))/(q*(2*a -1 - a**2))\n",
    "cx3"
   ]
  },
  {
   "cell_type": "code",
   "execution_count": 22,
   "id": "fa4d5986",
   "metadata": {},
   "outputs": [
    {
     "data": {
      "text/plain": [
       "15000000.350000001"
      ]
     },
     "execution_count": 22,
     "metadata": {},
     "output_type": "execute_result"
    }
   ],
   "source": [
    "p*(c+(1-c)*xc**2 * (1/a))"
   ]
  },
  {
   "cell_type": "code",
   "execution_count": 32,
   "id": "91eadcfe",
   "metadata": {},
   "outputs": [
    {
     "data": {
      "text/plain": [
       "27247.956403269756"
      ]
     },
     "execution_count": 32,
     "metadata": {},
     "output_type": "execute_result"
    }
   ],
   "source": [
    "(2000000*0.2-300000)/3.67"
   ]
  },
  {
   "cell_type": "code",
   "execution_count": 34,
   "id": "9c1661ad",
   "metadata": {},
   "outputs": [
    {
     "data": {
      "text/plain": [
       "469256.1307901907"
      ]
     },
     "execution_count": 34,
     "metadata": {},
     "output_type": "execute_result"
    }
   ],
   "source": [
    "551000-300000/3.67"
   ]
  },
  {
   "cell_type": "code",
   "execution_count": null,
   "id": "ec346dee",
   "metadata": {},
   "outputs": [],
   "source": []
  }
 ],
 "metadata": {
  "kernelspec": {
   "display_name": "Python 3",
   "language": "python",
   "name": "python3"
  },
  "language_info": {
   "codemirror_mode": {
    "name": "ipython",
    "version": 3
   },
   "file_extension": ".py",
   "mimetype": "text/x-python",
   "name": "python",
   "nbconvert_exporter": "python",
   "pygments_lexer": "ipython3",
   "version": "3.8.8"
  }
 },
 "nbformat": 4,
 "nbformat_minor": 5
}
